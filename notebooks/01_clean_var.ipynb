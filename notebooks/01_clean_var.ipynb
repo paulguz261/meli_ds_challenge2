{
 "cells": [
  {
   "cell_type": "markdown",
   "metadata": {},
   "source": [
    "# Opportunities@MeLi - Code Exercise - Data Scientist\n",
    "\n",
    "## Description:\n",
    "In the context of Mercadolibre's Marketplace an algorithm is needed to predict if an item listed in the marketplace is new or used.\n",
    "\n",
    "Your tasks involve the data analysis, designing, processing and modeling of a machine learning solution to predict if an item is new or used and then evaluate the model over held-out test data.\n",
    "\n",
    "To assist in that task a dataset is provided in `MLA_100k_checked_v3.jsonlines` and a function `build_dataset` to read that dataset in `new_or_used.py`.\n",
    "\n",
    "For the evaluation, you will use the accuracy metric in order to get a result of 0.86 as minimum. Additionally, you will have to choose an appropriate secondary metric and also elaborate an argument on why that metric was chosen.\n",
    "\n",
    "The deliverables are:\n",
    "* The file, including all the code needed to define and evaluate a model.\n",
    "* A document with an explanation on the criteria applied to choose the features, the proposed secondary metric and the performance achieved on that metrics. Optionally, you can deliver an EDA analysis with other format like .ipynb\n"
   ]
  },
  {
   "cell_type": "markdown",
   "metadata": {},
   "source": [
    "# EDA (exploracion de datos)\n",
    "En este notebook, se analizaran los datos contenidos en MLA_100k.jsonlines para desarrollar un modelo supervisado de calsificacion binaria que determinara si un producto es nuevo o usado.\n",
    "\n",
    "principalmente para cada variable se debe observara si:\n",
    "\n",
    "- Es viable para ser utilizada para el modelo o debe ser descartada. los criterios para determinar si debe ser descartada son:\n",
    "    - ¿Es un identificador unico?\n",
    "    - ¿Los valores de la columna son nulos?\n",
    "    - ¿La informacion de columna es redundante con otra columna?\n",
    "    - Criterio de experto\n",
    "- Necesita alguna transformacion o procesamiento para ser util en el modeo \n",
    "- su distribucion e informacion descriptiva propia de la variable"
   ]
  },
  {
   "cell_type": "markdown",
   "metadata": {},
   "source": [
    "## Libraries imports"
   ]
  },
  {
   "cell_type": "code",
   "execution_count": 214,
   "metadata": {},
   "outputs": [
    {
     "name": "stderr",
     "output_type": "stream",
     "text": [
      "[nltk_data] Downloading package stopwords to\n",
      "[nltk_data]     C:\\Users\\Paul\\AppData\\Roaming\\nltk_data...\n",
      "[nltk_data]   Package stopwords is already up-to-date!\n"
     ]
    }
   ],
   "source": [
    "import pandas as pd\n",
    "import numpy as np\n",
    "import matplotlib.pyplot as plt\n",
    "import seaborn as sns\n",
    "import json\n",
    "import geopy.distance\n",
    "\n",
    "from wordcloud import WordCloud\n",
    "from nltk.corpus import stopwords\n",
    "import nltk\n",
    "\n",
    "\n",
    "nltk.download('stopwords')\n",
    "spanish_stopwords = set(stopwords.words('spanish'))"
   ]
  },
  {
   "cell_type": "markdown",
   "metadata": {},
   "source": [
    "## Declaracion de funciones"
   ]
  },
  {
   "cell_type": "code",
   "execution_count": 215,
   "metadata": {},
   "outputs": [],
   "source": [
    "# You can safely assume that `build_dataset` is correctly implemented\n",
    "def build_dataset():\n",
    "    data = [json.loads(x) for x in open(\"../data/MLA_100k.jsonlines\")]\n",
    "    target = lambda x: x.get(\"condition\")\n",
    "    N = -10000\n",
    "    X_train = data[:N]\n",
    "    X_test = data[N:]\n",
    "    y_train = [target(x) for x in X_train]\n",
    "    y_test = [target(x) for x in X_test]\n",
    "    for x in X_test:\n",
    "        del x[\"condition\"]\n",
    "    return X_train, y_train, X_test, y_test\n",
    "\n",
    "def cantidad_distintos_nulo(df,lst_cols):\n",
    "    text_cols = df[lst_cols].select_dtypes(include=['object', 'string']).columns\n",
    "    df_cp = df.copy()\n",
    "    df_cp.loc[:,text_cols] = df_cp[text_cols].replace(\"\", np.nan)\n",
    "                           \n",
    "    df_isna = pd.DataFrame(df_cp[lst_cols].isna().sum(), columns=[\"cantidad_valores_nulos\"])\n",
    "    df_isna[\"pct_valores_nulos\"] = df_isna[\"cantidad_valores_nulos\"]/df.shape[0]\n",
    "    df_isna = df_isna.sort_values(by=\"pct_valores_nulos\", ascending=False)\n",
    "    return df_isna\n",
    "    \n",
    "    \n",
    "def descr_categorico(df,col,col_target=None, is_target=False, graficar=True):\n",
    "    \n",
    "    if is_target:\n",
    "        gr_col = df.groupby([col])[[\"id\"]].count()\n",
    "        gr_col.columns = [\"cantidad_registros\"]\n",
    "        gr_col = gr_col.reset_index()\n",
    "        gr_col.columns = [col,\"cantidad_registros\"]\n",
    "        gr_col[\"porcentaje\"] = (100*gr_col[\"cantidad_registros\"]/gr_col[\"cantidad_registros\"].sum()).round(2)\n",
    "\n",
    "        display(gr_col.sort_values(by=\"porcentaje\",ascending=False))\n",
    "        if graficar:\n",
    "            n_cols = 1\n",
    "            n_rows = 1\n",
    "            \n",
    "            fig,ax = plt.subplots(n_cols,n_rows,figsize=(n_rows*5, n_cols*3))\n",
    "            sns.barplot(gr_col, x=col, y=\"cantidad_registros\", hue=col, ax=ax)\n",
    "            fig.suptitle(f\"Grafica de valores para la columna {col}\", fontsize=10, y=1.02)\n",
    "    else:\n",
    "        gr_condition = df.groupby([col,col_target])[[\"id\"]].count()\n",
    "        gr_condition.columns = [\"cantidad_registros\"]\n",
    "        gr_condition = gr_condition.reset_index()\n",
    "        gr_condition[\"porcentaje\"] = (100*gr_condition[\"cantidad_registros\"]/gr_condition.groupby(col)[\"cantidad_registros\"].transform(\"sum\")).round(2)\n",
    "        gr_col = gr_condition.groupby([col])[[\"cantidad_registros\"]].sum().reset_index()\n",
    "        gr_col[\"porcentaje\"] = (100*gr_col[\"cantidad_registros\"]/gr_col[\"cantidad_registros\"].sum()).round(2)\n",
    "\n",
    "        display(gr_col.sort_values(by=\"porcentaje\",ascending=False))\n",
    "        display(gr_condition)\n",
    "        if graficar:\n",
    "            n_cols = 1\n",
    "            n_rows = 2\n",
    "\n",
    "            fig,ax = plt.subplots(n_cols,n_rows,figsize=(n_rows*10, n_cols*6))\n",
    "            axs=ax.flatten()            \n",
    "\n",
    "            sns.barplot(gr_col, x=col, y=\"porcentaje\", hue=col, ax=axs[0])\n",
    "            sns.barplot(gr_condition, x=col, y=\"porcentaje\", hue=col_target, ax=axs[1])\n",
    "            fig.suptitle(f\"Grafica de valores para la columna {col}\", fontsize=10, y=1.02)\n",
    "            ax[0].set_title(\"distribucion de valores\")\n",
    "            ax[1].set_title(f\"distribucion de valores en referencia a variable objetivo {col_target}\")\n",
    "\n",
    "\n",
    "def desc_continuous(df,col,col_target):\n",
    "    print(df[col].isna().sum())\n",
    "    desc_df_col = df[[col]].describe().T\n",
    "    desc_df_target = df.groupby(col_target)[[col]].describe()\n",
    "\n",
    "    display(desc_df_col)\n",
    "    display(desc_df_target)\n",
    "\n",
    "    n_rows = 2\n",
    "    n_cols = 2\n",
    "\n",
    "    fig,ax = plt.subplots(n_rows,n_cols,figsize=(n_cols*10, n_rows*6))\n",
    "    axs = ax.flatten()\n",
    "\n",
    "    sns.kdeplot(data=df, x=col, ax=axs[0])\n",
    "    sns.kdeplot(data=np.log(df[col]), ax=axs[1])\n",
    "    sns.kdeplot(data=df, x=col, hue=col_target, ax=axs[2])\n",
    "\n",
    "    df_dummy = df[[col,col_target]]\n",
    "    df_dummy.loc[:,col] = np.log(df_dummy[col])\n",
    "\n",
    "    sns.kdeplot(data=df_dummy,x=col, hue=col_target, ax=axs[3])\n",
    "    axs[0].set_title(\"distribucion variable {}\".format(col))\n",
    "    axs[1].set_title(\"distribucion variable {} - log transformacion\".format(col))\n",
    "    axs[2].set_title(\"distribucion variable {} con variable objetivo\".format(col,col_target))\n",
    "    axs[3].set_title(\"distribucion variable {} con variable objetivo {} - log transformacion\".format(col,col_target))\n",
    "    \n",
    "    \n",
    "def explore_json_column(df,col,limit=0):\n",
    "    df_json = df.loc[df[col].str.len() > limit,col].\\\n",
    "                                explode(col).\\\n",
    "                                reset_index()\n",
    "\n",
    "    df_json = pd.json_normalize(df_json[col])\n",
    "    return df_json\n",
    "\n",
    "\n",
    "def valida_contenido_json(col_data, limit=0):\n",
    "    val = (col_data.str.len() > limit).sum()\n",
    "    return [val,val/len(col_data)]\n",
    "\n",
    "def crear_wordcloud(df,column):\n",
    "    # WordCloud\n",
    "    fltr = ~df[column].replace(\"\",np.nan).isna()\n",
    "    text = \" \".join(df.loc[fltr,column].str.lower().unique())\n",
    "\n",
    "    # Generate a word cloud\n",
    "    wordcloud = WordCloud(\n",
    "        width=800, height=400,\n",
    "        background_color='white',\n",
    "        colormap='viridis',\n",
    "        max_words=20,\n",
    "        stopwords=spanish_stopwords\n",
    "    ).generate(text)\n",
    "\n",
    "    # Display the word cloud\n",
    "    plt.figure(figsize=(7, 5))\n",
    "    plt.imshow(wordcloud, interpolation='bilinear')\n",
    "    plt.axis(\"off\")\n",
    "    plt.title(f\"Word Cloud de {column}: top 20 palabras\", fontsize=16)\n",
    "    plt.show()"
   ]
  },
  {
   "cell_type": "markdown",
   "metadata": {},
   "source": [
    "## Preparacion de datos"
   ]
  },
  {
   "cell_type": "code",
   "execution_count": 216,
   "metadata": {},
   "outputs": [
    {
     "name": "stdout",
     "output_type": "stream",
     "text": [
      "Train:\n",
      "numero de filas: 90000.\n",
      "numero de columnas: 92\n"
     ]
    }
   ],
   "source": [
    "# lectura de informacion cruda y separacion en datos de train y test\n",
    "X_train, y_train, X_test, y_test = build_dataset()\n",
    "\n",
    "# procesamiento para la lectura de archivos del tipo json\n",
    "df = pd.json_normalize(X_train, sep='_')\n",
    "print(\"Train:\")\n",
    "print(f\"numero de filas: {df.shape[0]}.\\nnumero de columnas: {df.shape[1]}\")"
   ]
  },
  {
   "cell_type": "markdown",
   "metadata": {},
   "source": [
    "### Eliminar variables\n",
    "En esta seccion se mostraran las variables que fueron eliminadas y los criterios por los cuales fueron descartadas"
   ]
  },
  {
   "cell_type": "markdown",
   "metadata": {},
   "source": [
    "#### identificadores unicos\n",
    "las siguientes columnas no seran parte del modelo por ser identificadores unicos que no dan valor al modelo\n",
    "\n",
    "* id \n",
    "* thumbnail \n",
    "* secure_thumbnail\n",
    "* permalink"
   ]
  },
  {
   "cell_type": "code",
   "execution_count": 217,
   "metadata": {},
   "outputs": [
    {
     "data": {
      "text/html": [
       "<div>\n",
       "<style scoped>\n",
       "    .dataframe tbody tr th:only-of-type {\n",
       "        vertical-align: middle;\n",
       "    }\n",
       "\n",
       "    .dataframe tbody tr th {\n",
       "        vertical-align: top;\n",
       "    }\n",
       "\n",
       "    .dataframe thead th {\n",
       "        text-align: right;\n",
       "    }\n",
       "</style>\n",
       "<table border=\"1\" class=\"dataframe\">\n",
       "  <thead>\n",
       "    <tr style=\"text-align: right;\">\n",
       "      <th></th>\n",
       "      <th>cant_valores_unicos</th>\n",
       "      <th>pct_valores_unicos</th>\n",
       "    </tr>\n",
       "  </thead>\n",
       "  <tbody>\n",
       "    <tr>\n",
       "      <th>thumbnail</th>\n",
       "      <td>88227</td>\n",
       "      <td>0.9803</td>\n",
       "    </tr>\n",
       "    <tr>\n",
       "      <th>secure_thumbnail</th>\n",
       "      <td>88227</td>\n",
       "      <td>0.9803</td>\n",
       "    </tr>\n",
       "    <tr>\n",
       "      <th>permalink</th>\n",
       "      <td>90000</td>\n",
       "      <td>1.0000</td>\n",
       "    </tr>\n",
       "  </tbody>\n",
       "</table>\n",
       "</div>"
      ],
      "text/plain": [
       "                  cant_valores_unicos  pct_valores_unicos\n",
       "thumbnail                       88227              0.9803\n",
       "secure_thumbnail                88227              0.9803\n",
       "permalink                       90000              1.0000"
      ]
     },
     "execution_count": 217,
     "metadata": {},
     "output_type": "execute_result"
    }
   ],
   "source": [
    "col_unique = [\"thumbnail\",\"secure_thumbnail\",\"permalink\"]\n",
    "\n",
    "df_info = pd.DataFrame(df[col_unique].nunique(), columns=[\"cant_valores_unicos\"])\n",
    "df_info[\"pct_valores_unicos\"] = df_info[\"cant_valores_unicos\"]/df.shape[0]\n",
    "df_info"
   ]
  },
  {
   "cell_type": "markdown",
   "metadata": {},
   "source": [
    "#### Columnas con unico valor\n",
    "Las columnas a continuacion tienen un unico valor en toda la base, por lo que no dan valor al modelo\n",
    "\n",
    "* site_id\n",
    "* location_country_id\n",
    "* location_country_name\n",
    "* international_delivery_mode"
   ]
  },
  {
   "cell_type": "code",
   "execution_count": 218,
   "metadata": {},
   "outputs": [
    {
     "data": {
      "text/html": [
       "<div>\n",
       "<style scoped>\n",
       "    .dataframe tbody tr th:only-of-type {\n",
       "        vertical-align: middle;\n",
       "    }\n",
       "\n",
       "    .dataframe tbody tr th {\n",
       "        vertical-align: top;\n",
       "    }\n",
       "\n",
       "    .dataframe thead th {\n",
       "        text-align: right;\n",
       "    }\n",
       "</style>\n",
       "<table border=\"1\" class=\"dataframe\">\n",
       "  <thead>\n",
       "    <tr style=\"text-align: right;\">\n",
       "      <th></th>\n",
       "      <th>cant_valores_unicos</th>\n",
       "    </tr>\n",
       "  </thead>\n",
       "  <tbody>\n",
       "    <tr>\n",
       "      <th>site_id</th>\n",
       "      <td>1</td>\n",
       "    </tr>\n",
       "    <tr>\n",
       "      <th>location_country_id</th>\n",
       "      <td>1</td>\n",
       "    </tr>\n",
       "    <tr>\n",
       "      <th>location_country_name</th>\n",
       "      <td>1</td>\n",
       "    </tr>\n",
       "    <tr>\n",
       "      <th>international_delivery_mode</th>\n",
       "      <td>1</td>\n",
       "    </tr>\n",
       "  </tbody>\n",
       "</table>\n",
       "</div>"
      ],
      "text/plain": [
       "                             cant_valores_unicos\n",
       "site_id                                        1\n",
       "location_country_id                            1\n",
       "location_country_name                          1\n",
       "international_delivery_mode                    1"
      ]
     },
     "execution_count": 218,
     "metadata": {},
     "output_type": "execute_result"
    }
   ],
   "source": [
    "col_un_valor = [\"site_id\",\"location_country_id\",\"location_country_name\",\"international_delivery_mode\"]\n",
    "df_info = pd.DataFrame(df[col_un_valor].nunique(), columns=[\"cant_valores_unicos\"])\n",
    "df_info"
   ]
  },
  {
   "cell_type": "code",
   "execution_count": 219,
   "metadata": {},
   "outputs": [
    {
     "name": "stdout",
     "output_type": "stream",
     "text": [
      "df con transformacion:\n",
      "numero de filas: 90000.\n",
      "numero de columnas: 85\n"
     ]
    }
   ],
   "source": [
    "# Drop de columnas\n",
    "df_EDA = df.drop(columns=col_unique + col_un_valor)\n",
    "print(\"df con transformacion:\")\n",
    "print(f\"numero de filas: {df_EDA.shape[0]}.\\nnumero de columnas: {df_EDA.shape[1]}\")"
   ]
  },
  {
   "cell_type": "markdown",
   "metadata": {},
   "source": [
    "#### Valores faltantes\n",
    "En esta seccion se analizaran los datos que tienen valores faltantes, algunas columnas tienen string vacios dentro de sus valores, los cuales cuentan como vacio\n",
    "\n",
    "- seller_contact\n",
    "- location_zip_code\n",
    "- differential_pricing\n",
    "- location_open_hours\n",
    "- subtitle\n",
    "- listing_source\n",
    "- seller_contact_webpage\n",
    "- catalog_product_id\n",
    "- shipping_dimensions\n",
    "- seller_contact_phone2\n",
    "- seller_contact_area_code2\n",
    "- seller_contact_other_info\n",
    "- coverage_areas \n",
    "- shipping_methods\n",
    "- shipping_tags"
   ]
  },
  {
   "cell_type": "code",
   "execution_count": 220,
   "metadata": {},
   "outputs": [
    {
     "name": "stderr",
     "output_type": "stream",
     "text": [
      "C:\\Users\\Paul\\AppData\\Local\\Temp\\ipykernel_31736\\305274061.py:17: FutureWarning: Downcasting behavior in `replace` is deprecated and will be removed in a future version. To retain the old behavior, explicitly call `result.infer_objects(copy=False)`. To opt-in to the future behavior, set `pd.set_option('future.no_silent_downcasting', True)`\n",
      "  df_cp.loc[:,text_cols] = df_cp[text_cols].replace(\"\", np.nan)\n"
     ]
    },
    {
     "data": {
      "text/html": [
       "<div>\n",
       "<style scoped>\n",
       "    .dataframe tbody tr th:only-of-type {\n",
       "        vertical-align: middle;\n",
       "    }\n",
       "\n",
       "    .dataframe tbody tr th {\n",
       "        vertical-align: top;\n",
       "    }\n",
       "\n",
       "    .dataframe thead th {\n",
       "        text-align: right;\n",
       "    }\n",
       "</style>\n",
       "<table border=\"1\" class=\"dataframe\">\n",
       "  <thead>\n",
       "    <tr style=\"text-align: right;\">\n",
       "      <th></th>\n",
       "      <th>cantidad_valores_nulos</th>\n",
       "      <th>pct_valores_nulos</th>\n",
       "    </tr>\n",
       "  </thead>\n",
       "  <tbody>\n",
       "    <tr>\n",
       "      <th>location_open_hours</th>\n",
       "      <td>90000</td>\n",
       "      <td>1.000000</td>\n",
       "    </tr>\n",
       "    <tr>\n",
       "      <th>subtitle</th>\n",
       "      <td>90000</td>\n",
       "      <td>1.000000</td>\n",
       "    </tr>\n",
       "    <tr>\n",
       "      <th>seller_contact</th>\n",
       "      <td>90000</td>\n",
       "      <td>1.000000</td>\n",
       "    </tr>\n",
       "    <tr>\n",
       "      <th>seller_contact_webpage</th>\n",
       "      <td>90000</td>\n",
       "      <td>1.000000</td>\n",
       "    </tr>\n",
       "    <tr>\n",
       "      <th>listing_source</th>\n",
       "      <td>90000</td>\n",
       "      <td>1.000000</td>\n",
       "    </tr>\n",
       "    <tr>\n",
       "      <th>location_zip_code</th>\n",
       "      <td>90000</td>\n",
       "      <td>1.000000</td>\n",
       "    </tr>\n",
       "    <tr>\n",
       "      <th>differential_pricing</th>\n",
       "      <td>90000</td>\n",
       "      <td>1.000000</td>\n",
       "    </tr>\n",
       "    <tr>\n",
       "      <th>catalog_product_id</th>\n",
       "      <td>89993</td>\n",
       "      <td>0.999922</td>\n",
       "    </tr>\n",
       "    <tr>\n",
       "      <th>shipping_dimensions</th>\n",
       "      <td>89978</td>\n",
       "      <td>0.999756</td>\n",
       "    </tr>\n",
       "    <tr>\n",
       "      <th>seller_contact_area_code2</th>\n",
       "      <td>89971</td>\n",
       "      <td>0.999678</td>\n",
       "    </tr>\n",
       "    <tr>\n",
       "      <th>seller_contact_phone2</th>\n",
       "      <td>89971</td>\n",
       "      <td>0.999678</td>\n",
       "    </tr>\n",
       "    <tr>\n",
       "      <th>seller_contact_other_info</th>\n",
       "      <td>89939</td>\n",
       "      <td>0.999322</td>\n",
       "    </tr>\n",
       "  </tbody>\n",
       "</table>\n",
       "</div>"
      ],
      "text/plain": [
       "                           cantidad_valores_nulos  pct_valores_nulos\n",
       "location_open_hours                         90000           1.000000\n",
       "subtitle                                    90000           1.000000\n",
       "seller_contact                              90000           1.000000\n",
       "seller_contact_webpage                      90000           1.000000\n",
       "listing_source                              90000           1.000000\n",
       "location_zip_code                           90000           1.000000\n",
       "differential_pricing                        90000           1.000000\n",
       "catalog_product_id                          89993           0.999922\n",
       "shipping_dimensions                         89978           0.999756\n",
       "seller_contact_area_code2                   89971           0.999678\n",
       "seller_contact_phone2                       89971           0.999678\n",
       "seller_contact_other_info                   89939           0.999322"
      ]
     },
     "execution_count": 220,
     "metadata": {},
     "output_type": "execute_result"
    }
   ],
   "source": [
    "df_nulos = cantidad_distintos_nulo(df_EDA,df_EDA.columns)\n",
    "df_nulos[df_nulos[\"pct_valores_nulos\"]>0.9].head(12)"
   ]
  },
  {
   "cell_type": "code",
   "execution_count": 221,
   "metadata": {},
   "outputs": [
    {
     "name": "stderr",
     "output_type": "stream",
     "text": [
      "C:\\Users\\Paul\\AppData\\Local\\Temp\\ipykernel_31736\\474945139.py:7: FutureWarning: Downcasting behavior in `replace` is deprecated and will be removed in a future version. To retain the old behavior, explicitly call `result.infer_objects(copy=False)`. To opt-in to the future behavior, set `pd.set_option('future.no_silent_downcasting', True)`\n",
      "  df_val_faltantes = pd.DataFrame(df_EDA[cols_val_faltantes].replace(\"\",np.nan).nunique(), columns=[\"num_valores_unicos\"])\n"
     ]
    },
    {
     "data": {
      "text/html": [
       "<div>\n",
       "<style scoped>\n",
       "    .dataframe tbody tr th:only-of-type {\n",
       "        vertical-align: middle;\n",
       "    }\n",
       "\n",
       "    .dataframe tbody tr th {\n",
       "        vertical-align: top;\n",
       "    }\n",
       "\n",
       "    .dataframe thead th {\n",
       "        text-align: right;\n",
       "    }\n",
       "</style>\n",
       "<table border=\"1\" class=\"dataframe\">\n",
       "  <thead>\n",
       "    <tr style=\"text-align: right;\">\n",
       "      <th></th>\n",
       "      <th>num_valores_unicos</th>\n",
       "    </tr>\n",
       "  </thead>\n",
       "  <tbody>\n",
       "    <tr>\n",
       "      <th>seller_contact</th>\n",
       "      <td>0</td>\n",
       "    </tr>\n",
       "    <tr>\n",
       "      <th>location_zip_code</th>\n",
       "      <td>0</td>\n",
       "    </tr>\n",
       "    <tr>\n",
       "      <th>differential_pricing</th>\n",
       "      <td>0</td>\n",
       "    </tr>\n",
       "    <tr>\n",
       "      <th>location_open_hours</th>\n",
       "      <td>0</td>\n",
       "    </tr>\n",
       "    <tr>\n",
       "      <th>subtitle</th>\n",
       "      <td>0</td>\n",
       "    </tr>\n",
       "    <tr>\n",
       "      <th>listing_source</th>\n",
       "      <td>0</td>\n",
       "    </tr>\n",
       "    <tr>\n",
       "      <th>seller_contact_webpage</th>\n",
       "      <td>0</td>\n",
       "    </tr>\n",
       "    <tr>\n",
       "      <th>seller_contact_area_code2</th>\n",
       "      <td>3</td>\n",
       "    </tr>\n",
       "    <tr>\n",
       "      <th>catalog_product_id</th>\n",
       "      <td>7</td>\n",
       "    </tr>\n",
       "    <tr>\n",
       "      <th>seller_contact_phone2</th>\n",
       "      <td>11</td>\n",
       "    </tr>\n",
       "    <tr>\n",
       "      <th>shipping_dimensions</th>\n",
       "      <td>13</td>\n",
       "    </tr>\n",
       "    <tr>\n",
       "      <th>seller_contact_other_info</th>\n",
       "      <td>20</td>\n",
       "    </tr>\n",
       "  </tbody>\n",
       "</table>\n",
       "</div>"
      ],
      "text/plain": [
       "                           num_valores_unicos\n",
       "seller_contact                              0\n",
       "location_zip_code                           0\n",
       "differential_pricing                        0\n",
       "location_open_hours                         0\n",
       "subtitle                                    0\n",
       "listing_source                              0\n",
       "seller_contact_webpage                      0\n",
       "seller_contact_area_code2                   3\n",
       "catalog_product_id                          7\n",
       "seller_contact_phone2                      11\n",
       "shipping_dimensions                        13\n",
       "seller_contact_other_info                  20"
      ]
     },
     "execution_count": 221,
     "metadata": {},
     "output_type": "execute_result"
    }
   ],
   "source": [
    "cols_val_faltantes = [\"seller_contact\", \"location_zip_code\", \"differential_pricing\",\n",
    "       \"location_open_hours\", \"subtitle\", \"listing_source\",\n",
    "       \"seller_contact_webpage\", \"catalog_product_id\", \"shipping_dimensions\",\n",
    "       \"seller_contact_phone2\", \"seller_contact_area_code2\",\n",
    "       \"seller_contact_other_info\"]\n",
    "\n",
    "df_val_faltantes = pd.DataFrame(df_EDA[cols_val_faltantes].replace(\"\",np.nan).nunique(), columns=[\"num_valores_unicos\"])\n",
    "df_val_faltantes.sort_values(by = \"num_valores_unicos\")"
   ]
  },
  {
   "cell_type": "markdown",
   "metadata": {},
   "source": [
    "En esta seccion se revisa de las columnas que tienen como valores listas o arrays, los que estan vacios y por lo tanto deben ser eliminados."
   ]
  },
  {
   "cell_type": "code",
   "execution_count": 222,
   "metadata": {},
   "outputs": [
    {
     "data": {
      "text/html": [
       "<div>\n",
       "<style scoped>\n",
       "    .dataframe tbody tr th:only-of-type {\n",
       "        vertical-align: middle;\n",
       "    }\n",
       "\n",
       "    .dataframe tbody tr th {\n",
       "        vertical-align: top;\n",
       "    }\n",
       "\n",
       "    .dataframe thead th {\n",
       "        text-align: right;\n",
       "    }\n",
       "</style>\n",
       "<table border=\"1\" class=\"dataframe\">\n",
       "  <thead>\n",
       "    <tr style=\"text-align: right;\">\n",
       "      <th></th>\n",
       "      <th>cantidad_distintos_nulo</th>\n",
       "      <th>pct_distintos_nulo</th>\n",
       "    </tr>\n",
       "  </thead>\n",
       "  <tbody>\n",
       "    <tr>\n",
       "      <th>coverage_areas</th>\n",
       "      <td>0.0</td>\n",
       "      <td>0.000000</td>\n",
       "    </tr>\n",
       "    <tr>\n",
       "      <th>shipping_methods</th>\n",
       "      <td>0.0</td>\n",
       "      <td>0.000000</td>\n",
       "    </tr>\n",
       "    <tr>\n",
       "      <th>shipping_tags</th>\n",
       "      <td>59.0</td>\n",
       "      <td>0.000656</td>\n",
       "    </tr>\n",
       "    <tr>\n",
       "      <th>deal_ids</th>\n",
       "      <td>217.0</td>\n",
       "      <td>0.002411</td>\n",
       "    </tr>\n",
       "  </tbody>\n",
       "</table>\n",
       "</div>"
      ],
      "text/plain": [
       "                  cantidad_distintos_nulo  pct_distintos_nulo\n",
       "coverage_areas                        0.0            0.000000\n",
       "shipping_methods                      0.0            0.000000\n",
       "shipping_tags                        59.0            0.000656\n",
       "deal_ids                            217.0            0.002411"
      ]
     },
     "execution_count": 222,
     "metadata": {},
     "output_type": "execute_result"
    }
   ],
   "source": [
    "cols_val_faltantes_json = [\"coverage_areas\",\"shipping_methods\",\"shipping_tags\",\"deal_ids\"]\n",
    "df_val_fantantes_json = df_EDA[cols_val_faltantes_json].apply(lambda col: valida_contenido_json(col), result_type='expand').T\n",
    "df_val_fantantes_json.columns=[\"cantidad_distintos_nulo\",\"pct_distintos_nulo\"]\n",
    "df_val_fantantes_json"
   ]
  },
  {
   "cell_type": "code",
   "execution_count": 223,
   "metadata": {},
   "outputs": [
    {
     "name": "stdout",
     "output_type": "stream",
     "text": [
      "df con transformacion:\n",
      "numero de filas: 90000.\n",
      "numero de columnas: 69\n"
     ]
    }
   ],
   "source": [
    "df_EDA = df_EDA.drop(columns=cols_val_faltantes+cols_val_faltantes_json)\n",
    "print(\"df con transformacion:\")\n",
    "print(f\"numero de filas: {df_EDA.shape[0]}.\\nnumero de columnas: {df_EDA.shape[1]}\")"
   ]
  },
  {
   "cell_type": "markdown",
   "metadata": {},
   "source": [
    "#### Redundancia de informacion\n",
    "En esta seccion se eliminan ciertas variables que pueden estar ya contenidas en otra columna. "
   ]
  },
  {
   "cell_type": "markdown",
   "metadata": {},
   "source": [
    "##### Por nombre\n",
    "Se elige entre los pares de variables (nombre variable)**_id** y (nombre variable)**_name**, como la variable name es mas interpretable se conservan estas variables"
   ]
  },
  {
   "cell_type": "code",
   "execution_count": 224,
   "metadata": {},
   "outputs": [],
   "source": [
    "cols_redundantes_por_nombre = ['seller_address_country_id',\n",
    "                               'seller_address_search_location_neighborhood_id',\n",
    "                               'seller_address_search_location_state_id',\n",
    "                               'seller_address_search_location_city_id',\n",
    "                               'seller_address_city_id', \n",
    "                               'seller_address_state_id',\n",
    "                               'location_neighborhood_id',\n",
    "                               'location_city_id', \n",
    "                               'location_state_id']"
   ]
  },
  {
   "cell_type": "markdown",
   "metadata": {},
   "source": [
    "##### Por ubicacion geografica\n",
    "A continuacion se evalua la redundancia de las variables geograficas, las siguientes columnas son eliminadas\n",
    "\n",
    "- geolocation_latitude \n",
    "- geolocation_longitude\n",
    "- seller_address_search_location_state_name\n",
    "- seller_address_id\n",
    "\n",
    "luego de evaluar las variables anteriores frente a otras columnas se determina que son iguales o lo suficientemente similares a otra columna como para ser descartadas. a continuacion el analisis en detalle."
   ]
  },
  {
   "cell_type": "code",
   "execution_count": 225,
   "metadata": {},
   "outputs": [],
   "source": [
    "cols_redundates_geograficas = ['geolocation_latitude',\n",
    "                               'geolocation_longitude',\n",
    "                               'seller_address_search_location_state_name',\n",
    "                               'seller_address_id']"
   ]
  },
  {
   "cell_type": "markdown",
   "metadata": {},
   "source": [
    "Se analizan las coordenadas para determinar si son las mismas, para ello se evalua a que distancia se encuentran las unas de las otras.\n",
    "\n",
    "con la transformacion y analisis de las variables se determina que el **0.111%** de las coordenadas esta a una distancia mayor de 10km de su par, por lo que se considerará que las coordenadas son \"iguales\" y por lo tanto se puede eliminar un par de variables."
   ]
  },
  {
   "cell_type": "code",
   "execution_count": 226,
   "metadata": {},
   "outputs": [
    {
     "name": "stdout",
     "output_type": "stream",
     "text": [
      "pct de coordenadas iguales o a una distancia menor a 10km: 99.889\n",
      "pct de coordenadas iguales o a una distancia MAYOR a 10km: 0.111\n"
     ]
    }
   ],
   "source": [
    "df_geoloc = df_EDA[['geolocation_latitude','geolocation_longitude',\n",
    "        'seller_address_latitude','seller_address_longitude']].astype(str).apply(lambda col: col.replace(\"\", np.nan)).astype(float)\n",
    "\n",
    "# eliminar coordenadas vacias\n",
    "df_geoloc = df_geoloc.dropna()\n",
    "#crear coordenadas\n",
    "df_geoloc['geolocation_coordinates'] = df_geoloc.apply(lambda row: (row['geolocation_latitude'], row['geolocation_longitude']), axis=1)\n",
    "df_geoloc['seller_addres_coordinates'] = df_geoloc.apply(lambda row: (row['seller_address_latitude'], row['seller_address_longitude']), axis=1)\n",
    "#calcular distancias\n",
    "df_geoloc[\"distance\"] = df_geoloc.apply(lambda row : geopy.distance.geodesic(row['geolocation_coordinates'], row['seller_addres_coordinates']).km,\n",
    "                                        axis=1)\n",
    "df_geoloc.sort_values(by=\"distance\", ascending = False)\n",
    "# informacion final\n",
    "fltr = df_geoloc[\"distance\"] <= 10\n",
    "print(\"pct de coordenadas iguales o a una distancia menor a 10km: {pct:.3f}\".format(pct=100*sum(fltr)/len(fltr)))\n",
    "print(\"pct de coordenadas iguales o a una distancia MAYOR a 10km: {pct:.3f}\".format(pct=100*sum(~fltr)/len(fltr)))"
   ]
  },
  {
   "cell_type": "markdown",
   "metadata": {},
   "source": [
    "Al comparar las columnas <span style=\"color: green;\">**seller_address_state_name**</span> y <span style=\"color: red;\">**seller_address_search_location_state_name**</span> se evidencia que la primera agrupa a la segunda, por lo tanto se decide prescindir de la segunda."
   ]
  },
  {
   "cell_type": "code",
   "execution_count": 227,
   "metadata": {},
   "outputs": [
    {
     "data": {
      "text/html": [
       "<div>\n",
       "<style scoped>\n",
       "    .dataframe tbody tr th:only-of-type {\n",
       "        vertical-align: middle;\n",
       "    }\n",
       "\n",
       "    .dataframe tbody tr th {\n",
       "        vertical-align: top;\n",
       "    }\n",
       "\n",
       "    .dataframe thead th {\n",
       "        text-align: right;\n",
       "    }\n",
       "</style>\n",
       "<table border=\"1\" class=\"dataframe\">\n",
       "  <thead>\n",
       "    <tr style=\"text-align: right;\">\n",
       "      <th></th>\n",
       "      <th></th>\n",
       "      <th>id</th>\n",
       "    </tr>\n",
       "    <tr>\n",
       "      <th>seller_address_state_name</th>\n",
       "      <th>seller_address_search_location_state_name</th>\n",
       "      <th></th>\n",
       "    </tr>\n",
       "  </thead>\n",
       "  <tbody>\n",
       "    <tr>\n",
       "      <th>Capital Federal</th>\n",
       "      <th>Capital Federal</th>\n",
       "      <td>52142</td>\n",
       "    </tr>\n",
       "    <tr>\n",
       "      <th rowspan=\"4\" valign=\"top\">Buenos Aires</th>\n",
       "      <th>Bs.As. G.B.A. Sur</th>\n",
       "      <td>8249</td>\n",
       "    </tr>\n",
       "    <tr>\n",
       "      <th>Bs.As. G.B.A. Norte</th>\n",
       "      <td>7959</td>\n",
       "    </tr>\n",
       "    <tr>\n",
       "      <th>Bs.As. G.B.A. Oeste</th>\n",
       "      <td>7498</td>\n",
       "    </tr>\n",
       "    <tr>\n",
       "      <th></th>\n",
       "      <td>3507</td>\n",
       "    </tr>\n",
       "    <tr>\n",
       "      <th>Santa Fe</th>\n",
       "      <th>Santa Fe</th>\n",
       "      <td>2392</td>\n",
       "    </tr>\n",
       "    <tr>\n",
       "      <th>Buenos Aires</th>\n",
       "      <th>Buenos Aires Interior</th>\n",
       "      <td>2370</td>\n",
       "    </tr>\n",
       "    <tr>\n",
       "      <th>Córdoba</th>\n",
       "      <th>Córdoba</th>\n",
       "      <td>1720</td>\n",
       "    </tr>\n",
       "    <tr>\n",
       "      <th rowspan=\"2\" valign=\"top\">Buenos Aires</th>\n",
       "      <th>Bs.As. Costa Atlántica</th>\n",
       "      <td>1450</td>\n",
       "    </tr>\n",
       "    <tr>\n",
       "      <th>Capital Federal</th>\n",
       "      <td>448</td>\n",
       "    </tr>\n",
       "    <tr>\n",
       "      <th>Mendoza</th>\n",
       "      <th>Mendoza</th>\n",
       "      <td>400</td>\n",
       "    </tr>\n",
       "    <tr>\n",
       "      <th>Chubut</th>\n",
       "      <th>Chubut</th>\n",
       "      <td>334</td>\n",
       "    </tr>\n",
       "    <tr>\n",
       "      <th>Entre Ríos</th>\n",
       "      <th>Entre Ríos</th>\n",
       "      <td>247</td>\n",
       "    </tr>\n",
       "    <tr>\n",
       "      <th>Tucumán</th>\n",
       "      <th>Tucumán</th>\n",
       "      <td>212</td>\n",
       "    </tr>\n",
       "    <tr>\n",
       "      <th>San Juan</th>\n",
       "      <th>San Juan</th>\n",
       "      <td>132</td>\n",
       "    </tr>\n",
       "    <tr>\n",
       "      <th>Salta</th>\n",
       "      <th>Salta</th>\n",
       "      <td>129</td>\n",
       "    </tr>\n",
       "    <tr>\n",
       "      <th>Misiones</th>\n",
       "      <th>Misiones</th>\n",
       "      <td>122</td>\n",
       "    </tr>\n",
       "    <tr>\n",
       "      <th>Río Negro</th>\n",
       "      <th>Río Negro</th>\n",
       "      <td>119</td>\n",
       "    </tr>\n",
       "    <tr>\n",
       "      <th>Corrientes</th>\n",
       "      <th>Corrientes</th>\n",
       "      <td>109</td>\n",
       "    </tr>\n",
       "    <tr>\n",
       "      <th>Neuquén</th>\n",
       "      <th>Neuquén</th>\n",
       "      <td>85</td>\n",
       "    </tr>\n",
       "    <tr>\n",
       "      <th>La Pampa</th>\n",
       "      <th>La Pampa</th>\n",
       "      <td>69</td>\n",
       "    </tr>\n",
       "    <tr>\n",
       "      <th>Chaco</th>\n",
       "      <th>Chaco</th>\n",
       "      <td>66</td>\n",
       "    </tr>\n",
       "    <tr>\n",
       "      <th>San Luis</th>\n",
       "      <th>San Luis</th>\n",
       "      <td>56</td>\n",
       "    </tr>\n",
       "    <tr>\n",
       "      <th>Jujuy</th>\n",
       "      <th>Jujuy</th>\n",
       "      <td>33</td>\n",
       "    </tr>\n",
       "    <tr>\n",
       "      <th>Formosa</th>\n",
       "      <th>Formosa</th>\n",
       "      <td>26</td>\n",
       "    </tr>\n",
       "    <tr>\n",
       "      <th>Santiago del Estero</th>\n",
       "      <th>Santiago del Estero</th>\n",
       "      <td>26</td>\n",
       "    </tr>\n",
       "    <tr>\n",
       "      <th>Santa Cruz</th>\n",
       "      <th>Santa Cruz</th>\n",
       "      <td>22</td>\n",
       "    </tr>\n",
       "    <tr>\n",
       "      <th>Catamarca</th>\n",
       "      <th>Catamarca</th>\n",
       "      <td>20</td>\n",
       "    </tr>\n",
       "    <tr>\n",
       "      <th>La Rioja</th>\n",
       "      <th>La Rioja</th>\n",
       "      <td>16</td>\n",
       "    </tr>\n",
       "    <tr>\n",
       "      <th>Tierra del Fuego</th>\n",
       "      <th>Tierra del Fuego</th>\n",
       "      <td>10</td>\n",
       "    </tr>\n",
       "    <tr>\n",
       "      <th>Córdoba</th>\n",
       "      <th></th>\n",
       "      <td>7</td>\n",
       "    </tr>\n",
       "    <tr>\n",
       "      <th>Santa Fe</th>\n",
       "      <th></th>\n",
       "      <td>6</td>\n",
       "    </tr>\n",
       "    <tr>\n",
       "      <th>Chaco</th>\n",
       "      <th></th>\n",
       "      <td>3</td>\n",
       "    </tr>\n",
       "    <tr>\n",
       "      <th>Tucumán</th>\n",
       "      <th></th>\n",
       "      <td>2</td>\n",
       "    </tr>\n",
       "    <tr>\n",
       "      <th>Formosa</th>\n",
       "      <th></th>\n",
       "      <td>2</td>\n",
       "    </tr>\n",
       "    <tr>\n",
       "      <th>Salta</th>\n",
       "      <th></th>\n",
       "      <td>2</td>\n",
       "    </tr>\n",
       "    <tr>\n",
       "      <th>Neuquén</th>\n",
       "      <th></th>\n",
       "      <td>2</td>\n",
       "    </tr>\n",
       "    <tr>\n",
       "      <th>Entre Ríos</th>\n",
       "      <th></th>\n",
       "      <td>2</td>\n",
       "    </tr>\n",
       "    <tr>\n",
       "      <th>La Pampa</th>\n",
       "      <th></th>\n",
       "      <td>1</td>\n",
       "    </tr>\n",
       "    <tr>\n",
       "      <th>Corrientes</th>\n",
       "      <th></th>\n",
       "      <td>1</td>\n",
       "    </tr>\n",
       "    <tr>\n",
       "      <th>Chubut</th>\n",
       "      <th></th>\n",
       "      <td>1</td>\n",
       "    </tr>\n",
       "    <tr>\n",
       "      <th>Capital Federal</th>\n",
       "      <th></th>\n",
       "      <td>1</td>\n",
       "    </tr>\n",
       "    <tr>\n",
       "      <th>Buenos Aires</th>\n",
       "      <th>Santa Fe</th>\n",
       "      <td>1</td>\n",
       "    </tr>\n",
       "    <tr>\n",
       "      <th></th>\n",
       "      <th></th>\n",
       "      <td>1</td>\n",
       "    </tr>\n",
       "  </tbody>\n",
       "</table>\n",
       "</div>"
      ],
      "text/plain": [
       "                                                                        id\n",
       "seller_address_state_name seller_address_search_location_state_name       \n",
       "Capital Federal           Capital Federal                            52142\n",
       "Buenos Aires              Bs.As. G.B.A. Sur                           8249\n",
       "                          Bs.As. G.B.A. Norte                         7959\n",
       "                          Bs.As. G.B.A. Oeste                         7498\n",
       "                                                                      3507\n",
       "Santa Fe                  Santa Fe                                    2392\n",
       "Buenos Aires              Buenos Aires Interior                       2370\n",
       "Córdoba                   Córdoba                                     1720\n",
       "Buenos Aires              Bs.As. Costa Atlántica                      1450\n",
       "                          Capital Federal                              448\n",
       "Mendoza                   Mendoza                                      400\n",
       "Chubut                    Chubut                                       334\n",
       "Entre Ríos                Entre Ríos                                   247\n",
       "Tucumán                   Tucumán                                      212\n",
       "San Juan                  San Juan                                     132\n",
       "Salta                     Salta                                        129\n",
       "Misiones                  Misiones                                     122\n",
       "Río Negro                 Río Negro                                    119\n",
       "Corrientes                Corrientes                                   109\n",
       "Neuquén                   Neuquén                                       85\n",
       "La Pampa                  La Pampa                                      69\n",
       "Chaco                     Chaco                                         66\n",
       "San Luis                  San Luis                                      56\n",
       "Jujuy                     Jujuy                                         33\n",
       "Formosa                   Formosa                                       26\n",
       "Santiago del Estero       Santiago del Estero                           26\n",
       "Santa Cruz                Santa Cruz                                    22\n",
       "Catamarca                 Catamarca                                     20\n",
       "La Rioja                  La Rioja                                      16\n",
       "Tierra del Fuego          Tierra del Fuego                              10\n",
       "Córdoba                                                                  7\n",
       "Santa Fe                                                                 6\n",
       "Chaco                                                                    3\n",
       "Tucumán                                                                  2\n",
       "Formosa                                                                  2\n",
       "Salta                                                                    2\n",
       "Neuquén                                                                  2\n",
       "Entre Ríos                                                               2\n",
       "La Pampa                                                                 1\n",
       "Corrientes                                                               1\n",
       "Chubut                                                                   1\n",
       "Capital Federal                                                          1\n",
       "Buenos Aires              Santa Fe                                       1\n",
       "                                                                         1"
      ]
     },
     "execution_count": 227,
     "metadata": {},
     "output_type": "execute_result"
    }
   ],
   "source": [
    "df_EDA.groupby(['seller_address_state_name','seller_address_search_location_state_name'])[[\"id\"]].count().sort_values(by='id', ascending=False)"
   ]
  },
  {
   "cell_type": "markdown",
   "metadata": {},
   "source": [
    "La siguiente variable es <span style=\"color: red;\">**seller_addres_id**</span> esta variable es redundante con <span style=\"color: green;\">**seller_id**</span>, como se evidencia en la siguiente celda solo un par de *sellers* tienen mas de una direccion por lo que se puede eliminar la variable"
   ]
  },
  {
   "cell_type": "code",
   "execution_count": 228,
   "metadata": {},
   "outputs": [
    {
     "data": {
      "text/html": [
       "<div>\n",
       "<style scoped>\n",
       "    .dataframe tbody tr th:only-of-type {\n",
       "        vertical-align: middle;\n",
       "    }\n",
       "\n",
       "    .dataframe tbody tr th {\n",
       "        vertical-align: top;\n",
       "    }\n",
       "\n",
       "    .dataframe thead th {\n",
       "        text-align: right;\n",
       "    }\n",
       "</style>\n",
       "<table border=\"1\" class=\"dataframe\">\n",
       "  <thead>\n",
       "    <tr style=\"text-align: right;\">\n",
       "      <th></th>\n",
       "      <th>seller_address_id</th>\n",
       "    </tr>\n",
       "    <tr>\n",
       "      <th>seller_id</th>\n",
       "      <th></th>\n",
       "    </tr>\n",
       "  </thead>\n",
       "  <tbody>\n",
       "    <tr>\n",
       "      <th>35851775</th>\n",
       "      <td>2</td>\n",
       "    </tr>\n",
       "    <tr>\n",
       "      <th>58391698</th>\n",
       "      <td>2</td>\n",
       "    </tr>\n",
       "    <tr>\n",
       "      <th>15816492</th>\n",
       "      <td>2</td>\n",
       "    </tr>\n",
       "    <tr>\n",
       "      <th>138094599</th>\n",
       "      <td>2</td>\n",
       "    </tr>\n",
       "    <tr>\n",
       "      <th>58597029</th>\n",
       "      <td>2</td>\n",
       "    </tr>\n",
       "    <tr>\n",
       "      <th>158994601</th>\n",
       "      <td>2</td>\n",
       "    </tr>\n",
       "    <tr>\n",
       "      <th>95024038</th>\n",
       "      <td>2</td>\n",
       "    </tr>\n",
       "    <tr>\n",
       "      <th>126942409</th>\n",
       "      <td>1</td>\n",
       "    </tr>\n",
       "    <tr>\n",
       "      <th>126947873</th>\n",
       "      <td>1</td>\n",
       "    </tr>\n",
       "    <tr>\n",
       "      <th>126951820</th>\n",
       "      <td>1</td>\n",
       "    </tr>\n",
       "  </tbody>\n",
       "</table>\n",
       "</div>"
      ],
      "text/plain": [
       "           seller_address_id\n",
       "seller_id                   \n",
       "35851775                   2\n",
       "58391698                   2\n",
       "15816492                   2\n",
       "138094599                  2\n",
       "58597029                   2\n",
       "158994601                  2\n",
       "95024038                   2\n",
       "126942409                  1\n",
       "126947873                  1\n",
       "126951820                  1"
      ]
     },
     "execution_count": 228,
     "metadata": {},
     "output_type": "execute_result"
    }
   ],
   "source": [
    "gr_0 = df_EDA.groupby(['seller_id','seller_address_id'])[[\"id\"]].count().reset_index()\n",
    "gr = gr_0.groupby([\"seller_id\"])[[\"seller_address_id\"]].count().sort_values(by=\"seller_address_id\", ascending=False).head(10)\n",
    "gr"
   ]
  },
  {
   "cell_type": "code",
   "execution_count": 229,
   "metadata": {},
   "outputs": [
    {
     "name": "stdout",
     "output_type": "stream",
     "text": [
      "df con transformacion:\n",
      "numero de filas: 90000.\n",
      "numero de columnas: 56\n"
     ]
    }
   ],
   "source": [
    "cols_redundantes = cols_redundantes_por_nombre + cols_redundates_geograficas\n",
    "df_EDA = df_EDA.drop(columns=cols_redundantes)\n",
    "print(\"df con transformacion:\")\n",
    "print(f\"numero de filas: {df_EDA.shape[0]}.\\nnumero de columnas: {df_EDA.shape[1]}\")"
   ]
  },
  {
   "cell_type": "markdown",
   "metadata": {},
   "source": [
    "#### Criterio experto\n",
    "En esta seccion se muestran los criterios para eliminar ciertas variables a partir del analisis de los valores de estas.\n",
    "\n",
    "- last_updated\n",
    "- start_time\n",
    "- stop_time\n",
    "- seller_address_comment\n",
    "- seller_address_address_line\n",
    "- seller_address_city_name\n",
    "- seller_address_zip_code\n",
    "- sub_status\n",
    "- shipping_free_methods\n",
    "- status\n",
    "- currency_id\n",
    "- seller_address_country_name"
   ]
  },
  {
   "cell_type": "markdown",
   "metadata": {},
   "source": [
    "##### A priori\n",
    "En esta seccion se eliminan las variables que per se no se consideran que aporten valor, sin un analisis profundo, las variables elegidas son dependientes del tiempo.\n",
    "\n",
    "- last_updated\n",
    "- start_time\n",
    "- stop_time\n"
   ]
  },
  {
   "cell_type": "code",
   "execution_count": 230,
   "metadata": {},
   "outputs": [
    {
     "name": "stdout",
     "output_type": "stream",
     "text": [
      "df con transformacion:\n",
      "numero de filas: 90000.\n",
      "numero de columnas: 52\n"
     ]
    }
   ],
   "source": [
    "cols_apriori = ['last_updated','start_time',\n",
    "                'stop_time','date_created']\n",
    "df_EDA = df_EDA.drop(columns=cols_apriori)\n",
    "print(\"df con transformacion:\")\n",
    "print(f\"numero de filas: {df_EDA.shape[0]}.\\nnumero de columnas: {df_EDA.shape[1]}\")"
   ]
  },
  {
   "cell_type": "markdown",
   "metadata": {},
   "source": [
    "##### Variables de Texto (NLP)\n",
    "A las siguientes variables se les realiza un analisis de bag of words para determinar el contenido de las columnas. las variables a continuacion dan detalle de la direccion del cliente como avenida, departamento etc. y por lo tanto no se considera que sean candidatas para un modelo.\n",
    "\n",
    "- seller_address_comment\n",
    "- seller_address_address_line\n",
    "- title*"
   ]
  },
  {
   "cell_type": "code",
   "execution_count": 231,
   "metadata": {},
   "outputs": [
    {
     "data": {
      "image/png": "[encoded data removed]",
      "text/plain": [
       "<Figure size 700x500 with 1 Axes>"
      ]
     },
     "metadata": {},
     "output_type": "display_data"
    }
   ],
   "source": [
    "crear_wordcloud(df_EDA,\"seller_address_comment\")"
   ]
  },
  {
   "cell_type": "code",
   "execution_count": 232,
   "metadata": {},
   "outputs": [
    {
     "data": {
      "image/png": "[encoded data removed]",
      "text/plain": [
       "<Figure size 700x500 with 1 Axes>"
      ]
     },
     "metadata": {},
     "output_type": "display_data"
    }
   ],
   "source": [
    "crear_wordcloud(df_EDA,'seller_address_address_line')"
   ]
  },
  {
   "cell_type": "markdown",
   "metadata": {},
   "source": [
    "la variable **title** es particular, si bien se observa que tiene un gran valor ya que contiene palabras clave no se incluira incialmente en el analisis ya que para obtener un mejor resultado de esta variable se debe aplicar un proceso de NLP y para una version incial del modelo no se tendrá en cuenta."
   ]
  },
  {
   "cell_type": "code",
   "execution_count": 233,
   "metadata": {},
   "outputs": [
    {
     "data": {
      "image/png": "[encoded data removed]",
      "text/plain": [
       "<Figure size 700x500 with 1 Axes>"
      ]
     },
     "metadata": {},
     "output_type": "display_data"
    }
   ],
   "source": [
    "crear_wordcloud(df_EDA,'title')"
   ]
  },
  {
   "cell_type": "markdown",
   "metadata": {},
   "source": [
    "##### Alta granularidad\n",
    "\n",
    "no se consideran estas variables por que aumentarian la dimensionalidad del dataset, ademas al ser variables geograficas estas son redundantes con otras variables ya que estas pueden estar contenidas en otras columnas como por ejemplo: **seller_address_search_location_city_name**\n",
    "\n",
    "- seller_address_city_name\n",
    "- seller_address_zip_code\n",
    "- seller_address_search_location_neighborhood_name"
   ]
  },
  {
   "cell_type": "code",
   "execution_count": 234,
   "metadata": {},
   "outputs": [
    {
     "data": {
      "text/plain": [
       "seller_address_city_name                            3480\n",
       "seller_address_zip_code                              299\n",
       "seller_address_search_location_neighborhood_name     536\n",
       "dtype: int64"
      ]
     },
     "execution_count": 234,
     "metadata": {},
     "output_type": "execute_result"
    }
   ],
   "source": [
    "df_EDA[['seller_address_city_name',\n",
    "        'seller_address_zip_code',\n",
    "        'seller_address_search_location_neighborhood_name']].nunique()"
   ]
  },
  {
   "cell_type": "markdown",
   "metadata": {},
   "source": [
    "##### Variables sin relacion al producto ofertado \n",
    "\n",
    "Las siguientes variables no tienen relacion con el producto ofertado, una de estas es el estado del anuncio, y la segunda no es intepretable por lo que deciden eliminarse\n",
    "\n",
    "- sub_status\n",
    "- status"
   ]
  },
  {
   "cell_type": "code",
   "execution_count": 235,
   "metadata": {},
   "outputs": [
    {
     "data": {
      "text/html": [
       "<div>\n",
       "<style scoped>\n",
       "    .dataframe tbody tr th:only-of-type {\n",
       "        vertical-align: middle;\n",
       "    }\n",
       "\n",
       "    .dataframe tbody tr th {\n",
       "        vertical-align: top;\n",
       "    }\n",
       "\n",
       "    .dataframe thead th {\n",
       "        text-align: right;\n",
       "    }\n",
       "</style>\n",
       "<table border=\"1\" class=\"dataframe\">\n",
       "  <thead>\n",
       "    <tr style=\"text-align: right;\">\n",
       "      <th></th>\n",
       "      <th>0</th>\n",
       "      <th>1</th>\n",
       "    </tr>\n",
       "  </thead>\n",
       "  <tbody>\n",
       "    <tr>\n",
       "      <th>sub_status</th>\n",
       "      <td>891.0</td>\n",
       "      <td>0.0099</td>\n",
       "    </tr>\n",
       "    <tr>\n",
       "      <th>status</th>\n",
       "      <td>90000.0</td>\n",
       "      <td>1.0000</td>\n",
       "    </tr>\n",
       "  </tbody>\n",
       "</table>\n",
       "</div>"
      ],
      "text/plain": [
       "                  0       1\n",
       "sub_status    891.0  0.0099\n",
       "status      90000.0  1.0000"
      ]
     },
     "metadata": {},
     "output_type": "display_data"
    }
   ],
   "source": [
    "cols = [\"sub_status\",\"status\"]\n",
    "display(df_EDA[cols].apply(lambda col: valida_contenido_json(col), result_type='expand').T)"
   ]
  },
  {
   "cell_type": "code",
   "execution_count": 236,
   "metadata": {},
   "outputs": [
    {
     "data": {
      "text/plain": [
       "array(['suspended', 'expired', 'deleted'], dtype=object)"
      ]
     },
     "execution_count": 236,
     "metadata": {},
     "output_type": "execute_result"
    }
   ],
   "source": [
    "df_EDA.loc[df_EDA[\"sub_status\"].str.len() > 0,\"sub_status\"].str[0].unique()"
   ]
  },
  {
   "cell_type": "code",
   "execution_count": 237,
   "metadata": {},
   "outputs": [
    {
     "data": {
      "text/html": [
       "<div>\n",
       "<style scoped>\n",
       "    .dataframe tbody tr th:only-of-type {\n",
       "        vertical-align: middle;\n",
       "    }\n",
       "\n",
       "    .dataframe tbody tr th {\n",
       "        vertical-align: top;\n",
       "    }\n",
       "\n",
       "    .dataframe thead th {\n",
       "        text-align: right;\n",
       "    }\n",
       "</style>\n",
       "<table border=\"1\" class=\"dataframe\">\n",
       "  <thead>\n",
       "    <tr style=\"text-align: right;\">\n",
       "      <th></th>\n",
       "      <th>status</th>\n",
       "      <th>cantidad_registros</th>\n",
       "      <th>porcentaje</th>\n",
       "    </tr>\n",
       "  </thead>\n",
       "  <tbody>\n",
       "    <tr>\n",
       "      <th>0</th>\n",
       "      <td>active</td>\n",
       "      <td>86116</td>\n",
       "      <td>95.68</td>\n",
       "    </tr>\n",
       "    <tr>\n",
       "      <th>3</th>\n",
       "      <td>paused</td>\n",
       "      <td>3863</td>\n",
       "      <td>4.29</td>\n",
       "    </tr>\n",
       "    <tr>\n",
       "      <th>1</th>\n",
       "      <td>closed</td>\n",
       "      <td>20</td>\n",
       "      <td>0.02</td>\n",
       "    </tr>\n",
       "    <tr>\n",
       "      <th>2</th>\n",
       "      <td>not_yet_active</td>\n",
       "      <td>1</td>\n",
       "      <td>0.00</td>\n",
       "    </tr>\n",
       "  </tbody>\n",
       "</table>\n",
       "</div>"
      ],
      "text/plain": [
       "           status  cantidad_registros  porcentaje\n",
       "0          active               86116       95.68\n",
       "3          paused                3863        4.29\n",
       "1          closed                  20        0.02\n",
       "2  not_yet_active                   1        0.00"
      ]
     },
     "metadata": {},
     "output_type": "display_data"
    }
   ],
   "source": [
    "descr_categorico(df_EDA,'status',is_target=True, graficar=False)"
   ]
  },
  {
   "cell_type": "markdown",
   "metadata": {},
   "source": [
    "##### Variables hegemonicas\n",
    "\n",
    "estas variables tienen una mayoria evidente frente a otros valores de la columna, siendo casi iguales a las columnas de valores unicos, por tal motivo se decide descartar estas variables.\n",
    "\n",
    "- currency_id\n",
    "- seller_address_country_name"
   ]
  },
  {
   "cell_type": "code",
   "execution_count": 238,
   "metadata": {},
   "outputs": [
    {
     "name": "stdout",
     "output_type": "stream",
     "text": [
      "0\n"
     ]
    },
    {
     "data": {
      "text/html": [
       "<div>\n",
       "<style scoped>\n",
       "    .dataframe tbody tr th:only-of-type {\n",
       "        vertical-align: middle;\n",
       "    }\n",
       "\n",
       "    .dataframe tbody tr th {\n",
       "        vertical-align: top;\n",
       "    }\n",
       "\n",
       "    .dataframe thead th {\n",
       "        text-align: right;\n",
       "    }\n",
       "</style>\n",
       "<table border=\"1\" class=\"dataframe\">\n",
       "  <thead>\n",
       "    <tr style=\"text-align: right;\">\n",
       "      <th></th>\n",
       "      <th>currency_id</th>\n",
       "      <th>cantidad_registros</th>\n",
       "      <th>porcentaje</th>\n",
       "    </tr>\n",
       "  </thead>\n",
       "  <tbody>\n",
       "    <tr>\n",
       "      <th>0</th>\n",
       "      <td>ARS</td>\n",
       "      <td>89496</td>\n",
       "      <td>99.44</td>\n",
       "    </tr>\n",
       "    <tr>\n",
       "      <th>1</th>\n",
       "      <td>USD</td>\n",
       "      <td>504</td>\n",
       "      <td>0.56</td>\n",
       "    </tr>\n",
       "  </tbody>\n",
       "</table>\n",
       "</div>"
      ],
      "text/plain": [
       "  currency_id  cantidad_registros  porcentaje\n",
       "0         ARS               89496       99.44\n",
       "1         USD                 504        0.56"
      ]
     },
     "metadata": {},
     "output_type": "display_data"
    },
    {
     "data": {
      "image/png": "[encoded data removed]",
      "text/plain": [
       "<Figure size 500x300 with 1 Axes>"
      ]
     },
     "metadata": {},
     "output_type": "display_data"
    }
   ],
   "source": [
    "col = \"currency_id\"\n",
    "print(df_EDA[col].isna().sum())\n",
    "descr_categorico(df_EDA,col,is_target=True)"
   ]
  },
  {
   "cell_type": "code",
   "execution_count": 239,
   "metadata": {},
   "outputs": [
    {
     "data": {
      "text/html": [
       "<div>\n",
       "<style scoped>\n",
       "    .dataframe tbody tr th:only-of-type {\n",
       "        vertical-align: middle;\n",
       "    }\n",
       "\n",
       "    .dataframe tbody tr th {\n",
       "        vertical-align: top;\n",
       "    }\n",
       "\n",
       "    .dataframe thead th {\n",
       "        text-align: right;\n",
       "    }\n",
       "</style>\n",
       "<table border=\"1\" class=\"dataframe\">\n",
       "  <thead>\n",
       "    <tr style=\"text-align: right;\">\n",
       "      <th></th>\n",
       "      <th>seller_address_country_name</th>\n",
       "      <th>cantidad_registros</th>\n",
       "      <th>porcentaje</th>\n",
       "    </tr>\n",
       "  </thead>\n",
       "  <tbody>\n",
       "    <tr>\n",
       "      <th>1</th>\n",
       "      <td>Argentina</td>\n",
       "      <td>89999</td>\n",
       "      <td>100.0</td>\n",
       "    </tr>\n",
       "    <tr>\n",
       "      <th>0</th>\n",
       "      <td></td>\n",
       "      <td>1</td>\n",
       "      <td>0.0</td>\n",
       "    </tr>\n",
       "  </tbody>\n",
       "</table>\n",
       "</div>"
      ],
      "text/plain": [
       "  seller_address_country_name  cantidad_registros  porcentaje\n",
       "1                   Argentina               89999       100.0\n",
       "0                                               1         0.0"
      ]
     },
     "metadata": {},
     "output_type": "display_data"
    },
    {
     "data": {
      "image/png": "[encoded data removed]",
      "text/plain": [
       "<Figure size 500x300 with 1 Axes>"
      ]
     },
     "metadata": {},
     "output_type": "display_data"
    }
   ],
   "source": [
    "descr_categorico(df_EDA,'seller_address_country_name',is_target=True)"
   ]
  },
  {
   "cell_type": "code",
   "execution_count": 240,
   "metadata": {},
   "outputs": [
    {
     "name": "stdout",
     "output_type": "stream",
     "text": [
      "df con transformacion:\n",
      "numero de filas: 90000.\n",
      "numero de columnas: 42\n"
     ]
    }
   ],
   "source": [
    "cols_criterio_exp = [\"seller_address_comment\",\n",
    "                \"seller_address_address_line\",\n",
    "                \"title\",\n",
    "                \"seller_address_city_name\",\n",
    "                \"seller_address_zip_code\",\n",
    "                \"seller_address_search_location_neighborhood_name\",\n",
    "                \"sub_status\",\n",
    "                \"status\",\n",
    "                \"currency_id\",\n",
    "                \"seller_address_country_name\"]\n",
    "\n",
    "df_EDA = df_EDA.drop(columns=cols_criterio_exp)\n",
    "print(\"df con transformacion:\")\n",
    "print(f\"numero de filas: {df_EDA.shape[0]}.\\nnumero de columnas: {df_EDA.shape[1]}\")"
   ]
  },
  {
   "cell_type": "markdown",
   "metadata": {},
   "source": [
    "### Transformar variables\n",
    "\n",
    "En esta seccion se evaluaran de forma descriptiva las variables y las transformaciones que pueden ser aplicadas a estas para que tengan un mayor poder preductivo en el modelo."
   ]
  },
  {
   "cell_type": "markdown",
   "metadata": {},
   "source": [
    "#### Binarizacion\n",
    "\n",
    "Las siguientes columnas son transformadas a valores binariosque indica la presencia o no del atributo de la columna, los valores en dichas columnas se pueden interpretar de la siguiente manera.\n",
    "<center>\n",
    "\n",
    "| valores binarios | interpretacion     |\n",
    "|------------------|--------------------|\n",
    "| 1                | presente           |\n",
    "| 0                | no esta presente   |\n",
    "\n",
    "</center>"
   ]
  },
  {
   "cell_type": "markdown",
   "metadata": {},
   "source": [
    "##### Booleano a numerico\n",
    "Las siguientes columnas estan almacenadas como booleanos y seran transformados a valores numericos para que la base este estandarizada con el criterio anterior"
   ]
  },
  {
   "cell_type": "code",
   "execution_count": 241,
   "metadata": {},
   "outputs": [],
   "source": [
    "lst_binary_boolean_to_numeric = [\"accepts_mercadopago\", \n",
    "                                \"automatic_relist\", \n",
    "                                \"shipping_local_pick_up\",\n",
    "                                \"shipping_free_shipping\"\n",
    "                                ]\n",
    "df_EDA[lst_binary_boolean_to_numeric] = df_EDA[lst_binary_boolean_to_numeric].astype(int)"
   ]
  },
  {
   "cell_type": "markdown",
   "metadata": {},
   "source": [
    "##### Simplificacion - directa\n",
    "\n",
    "Las siguientes columnas tienen distintos valores, para el modelo se determina que estas variables se transformaran a binario, para obtener una mejor interpretacion de las variables.\n",
    "\n",
    "Estas variables pueden transformarse a binario simplemente determinando si el campo existe o no\n",
    "\n",
    "- **warranty**: posee un texto que describe la garantia, se determina que el texto sera \"descartado\" pero se conservará una variable que indique si el articulo tenia un texto de garantia o no.\n",
    "\n",
    "- **video_id**: esta columna tiene un identificador codificado del video el cual no brinda valor, sin embargo se cambia por un valor binario que indica si el producto tiene o no un video \n",
    "\n",
    "- **official_store_id**: en este caso el identificador de la columna no es entendible, sin embargo saber si el producto esta asociado a una tienda oficial puede ser util\n",
    "\n",
    "- **parent_item_id**: esta relacionado con una republicacion ([referencia](https://stackoverflow.com/questions/40478704/mercadolibre-api)), si tiene un *parent* quiere decir que hubo una republicacion"
   ]
  },
  {
   "cell_type": "code",
   "execution_count": 242,
   "metadata": {},
   "outputs": [
    {
     "data": {
      "text/html": [
       "<div>\n",
       "<style scoped>\n",
       "    .dataframe tbody tr th:only-of-type {\n",
       "        vertical-align: middle;\n",
       "    }\n",
       "\n",
       "    .dataframe tbody tr th {\n",
       "        vertical-align: top;\n",
       "    }\n",
       "\n",
       "    .dataframe thead th {\n",
       "        text-align: right;\n",
       "    }\n",
       "</style>\n",
       "<table border=\"1\" class=\"dataframe\">\n",
       "  <thead>\n",
       "    <tr style=\"text-align: right;\">\n",
       "      <th></th>\n",
       "      <th>warranty</th>\n",
       "      <th>parent_item_id</th>\n",
       "      <th>official_store_id</th>\n",
       "      <th>video_id</th>\n",
       "    </tr>\n",
       "  </thead>\n",
       "  <tbody>\n",
       "    <tr>\n",
       "      <th>537</th>\n",
       "      <td>Garantía Oficial.</td>\n",
       "      <td>MLA567312114</td>\n",
       "      <td>170.0</td>\n",
       "      <td>YU2f8ZoDqo0</td>\n",
       "    </tr>\n",
       "    <tr>\n",
       "      <th>12002</th>\n",
       "      <td>2 Años de Garantía Oficial Philips Argentina</td>\n",
       "      <td>MLA574144107</td>\n",
       "      <td>221.0</td>\n",
       "      <td>cjHCzC69tyw</td>\n",
       "    </tr>\n",
       "    <tr>\n",
       "      <th>41823</th>\n",
       "      <td>7 Años de garantía escrita por AISA IONIC S.A</td>\n",
       "      <td>MLA567252400</td>\n",
       "      <td>322.0</td>\n",
       "      <td>WkGGZndnDXo</td>\n",
       "    </tr>\n",
       "    <tr>\n",
       "      <th>42752</th>\n",
       "      <td>Garantía por 3 meses por roturas por fallas de...</td>\n",
       "      <td>MLA569497696</td>\n",
       "      <td>256.0</td>\n",
       "      <td>I_YZIt3Ax_M</td>\n",
       "    </tr>\n",
       "    <tr>\n",
       "      <th>50867</th>\n",
       "      <td>Garantía Oficial</td>\n",
       "      <td>MLA567311012</td>\n",
       "      <td>170.0</td>\n",
       "      <td>YU2f8ZoDqo0</td>\n",
       "    </tr>\n",
       "    <tr>\n",
       "      <th>54010</th>\n",
       "      <td>Garantía por 3 meses. Devoluciones solo por ro...</td>\n",
       "      <td>MLA573808578</td>\n",
       "      <td>256.0</td>\n",
       "      <td>Z5uTGNn2cwY</td>\n",
       "    </tr>\n",
       "    <tr>\n",
       "      <th>67638</th>\n",
       "      <td>Garantía por 3 meses. Devoluciones solo por ro...</td>\n",
       "      <td>MLA569556438</td>\n",
       "      <td>256.0</td>\n",
       "      <td>DZ0x58a_L4s</td>\n",
       "    </tr>\n",
       "    <tr>\n",
       "      <th>89572</th>\n",
       "      <td>Garantía por 3 meses. Devoluciones solo por ro...</td>\n",
       "      <td>MLA565356957</td>\n",
       "      <td>256.0</td>\n",
       "      <td>WKo_6fssxnc</td>\n",
       "    </tr>\n",
       "  </tbody>\n",
       "</table>\n",
       "</div>"
      ],
      "text/plain": [
       "                                                warranty parent_item_id  \\\n",
       "537                                    Garantía Oficial.   MLA567312114   \n",
       "12002       2 Años de Garantía Oficial Philips Argentina   MLA574144107   \n",
       "41823      7 Años de garantía escrita por AISA IONIC S.A   MLA567252400   \n",
       "42752  Garantía por 3 meses por roturas por fallas de...   MLA569497696   \n",
       "50867                                   Garantía Oficial   MLA567311012   \n",
       "54010  Garantía por 3 meses. Devoluciones solo por ro...   MLA573808578   \n",
       "67638  Garantía por 3 meses. Devoluciones solo por ro...   MLA569556438   \n",
       "89572  Garantía por 3 meses. Devoluciones solo por ro...   MLA565356957   \n",
       "\n",
       "       official_store_id     video_id  \n",
       "537                170.0  YU2f8ZoDqo0  \n",
       "12002              221.0  cjHCzC69tyw  \n",
       "41823              322.0  WkGGZndnDXo  \n",
       "42752              256.0  I_YZIt3Ax_M  \n",
       "50867              170.0  YU2f8ZoDqo0  \n",
       "54010              256.0  Z5uTGNn2cwY  \n",
       "67638              256.0  DZ0x58a_L4s  \n",
       "89572              256.0  WKo_6fssxnc  "
      ]
     },
     "execution_count": 242,
     "metadata": {},
     "output_type": "execute_result"
    }
   ],
   "source": [
    "lst_binary_exists = [\"warranty\",\n",
    "                    \"parent_item_id\", \n",
    "                    \"official_store_id\",\n",
    "                    \"video_id\"\n",
    "                    ]\n",
    "\n",
    "fltr = (~df_EDA[lst_binary_exists].isna()).sum(axis=1) == 4\n",
    "df_EDA.loc[fltr,lst_binary_exists]"
   ]
  },
  {
   "cell_type": "code",
   "execution_count": 243,
   "metadata": {},
   "outputs": [],
   "source": [
    "df_EDA[lst_binary_exists] = (~df_EDA[lst_binary_exists].isna()).astype(int)"
   ]
  },
  {
   "cell_type": "markdown",
   "metadata": {},
   "source": [
    "- **shipping_free_methods:**([referencia meli](https://developers.mercadolibre.com.ar/en_us/free-shipping-mshops)) esta variable indica si el producto tiene asociado un tipo de envio gratuito, esta almacenado como un json por lo que la transformacion a binario difiere de los datos anteriores"
   ]
  },
  {
   "cell_type": "code",
   "execution_count": 244,
   "metadata": {},
   "outputs": [],
   "source": [
    "df_EDA[\"shipping_free_methods\"] = (df_EDA[\"shipping_free_methods\"].str.len() > 0).astype(int)"
   ]
  },
  {
   "cell_type": "markdown",
   "metadata": {},
   "source": [
    "##### Simplificacion - indirecta\n",
    "\n",
    "Para las siguientes columnas la conversion a binario implica no solo la transformacion a presente o no del valor si no que transforma la variable en una nueva, lo que significa que <span style=\"color: orange;\">la variable original será eliminada y reemplazada por la nueva.</span>"
   ]
  },
  {
   "cell_type": "markdown",
   "metadata": {},
   "source": [
    "- **buying_mode:** al observar las categorias se determina que esta variable, puede cambiarnse por una nueva que indica si el producto tiene asociada la propiedad de buy_now"
   ]
  },
  {
   "cell_type": "code",
   "execution_count": 245,
   "metadata": {},
   "outputs": [
    {
     "data": {
      "text/html": [
       "<div>\n",
       "<style scoped>\n",
       "    .dataframe tbody tr th:only-of-type {\n",
       "        vertical-align: middle;\n",
       "    }\n",
       "\n",
       "    .dataframe tbody tr th {\n",
       "        vertical-align: top;\n",
       "    }\n",
       "\n",
       "    .dataframe thead th {\n",
       "        text-align: right;\n",
       "    }\n",
       "</style>\n",
       "<table border=\"1\" class=\"dataframe\">\n",
       "  <thead>\n",
       "    <tr style=\"text-align: right;\">\n",
       "      <th></th>\n",
       "      <th>buying_mode</th>\n",
       "      <th>cantidad_registros</th>\n",
       "      <th>porcentaje</th>\n",
       "    </tr>\n",
       "  </thead>\n",
       "  <tbody>\n",
       "    <tr>\n",
       "      <th>1</th>\n",
       "      <td>buy_it_now</td>\n",
       "      <td>87311</td>\n",
       "      <td>97.01</td>\n",
       "    </tr>\n",
       "    <tr>\n",
       "      <th>2</th>\n",
       "      <td>classified</td>\n",
       "      <td>1982</td>\n",
       "      <td>2.20</td>\n",
       "    </tr>\n",
       "    <tr>\n",
       "      <th>0</th>\n",
       "      <td>auction</td>\n",
       "      <td>707</td>\n",
       "      <td>0.79</td>\n",
       "    </tr>\n",
       "  </tbody>\n",
       "</table>\n",
       "</div>"
      ],
      "text/plain": [
       "  buying_mode  cantidad_registros  porcentaje\n",
       "1  buy_it_now               87311       97.01\n",
       "2  classified                1982        2.20\n",
       "0     auction                 707        0.79"
      ]
     },
     "metadata": {},
     "output_type": "display_data"
    },
    {
     "data": {
      "image/png": "[encoded data removed]",
      "text/plain": [
       "<Figure size 500x300 with 1 Axes>"
      ]
     },
     "metadata": {},
     "output_type": "display_data"
    }
   ],
   "source": [
    "descr_categorico(df_EDA,'buying_mode',is_target=True)"
   ]
  },
  {
   "cell_type": "markdown",
   "metadata": {},
   "source": [
    "- **seller_address_state_name:** para esta variable se evidencia una gran cantidad de productos se venden en la capital, por lo que se creara una variable que indique si el producto es vendido en la capital"
   ]
  },
  {
   "cell_type": "code",
   "execution_count": 246,
   "metadata": {},
   "outputs": [
    {
     "data": {
      "text/html": [
       "<div>\n",
       "<style scoped>\n",
       "    .dataframe tbody tr th:only-of-type {\n",
       "        vertical-align: middle;\n",
       "    }\n",
       "\n",
       "    .dataframe tbody tr th {\n",
       "        vertical-align: top;\n",
       "    }\n",
       "\n",
       "    .dataframe thead th {\n",
       "        text-align: right;\n",
       "    }\n",
       "</style>\n",
       "<table border=\"1\" class=\"dataframe\">\n",
       "  <thead>\n",
       "    <tr style=\"text-align: right;\">\n",
       "      <th></th>\n",
       "      <th>seller_address_state_name</th>\n",
       "      <th>cantidad_registros</th>\n",
       "      <th>porcentaje</th>\n",
       "    </tr>\n",
       "  </thead>\n",
       "  <tbody>\n",
       "    <tr>\n",
       "      <th>2</th>\n",
       "      <td>Capital Federal</td>\n",
       "      <td>52143</td>\n",
       "      <td>57.94</td>\n",
       "    </tr>\n",
       "    <tr>\n",
       "      <th>1</th>\n",
       "      <td>Buenos Aires</td>\n",
       "      <td>31482</td>\n",
       "      <td>34.98</td>\n",
       "    </tr>\n",
       "    <tr>\n",
       "      <th>21</th>\n",
       "      <td>Santa Fe</td>\n",
       "      <td>2398</td>\n",
       "      <td>2.66</td>\n",
       "    </tr>\n",
       "    <tr>\n",
       "      <th>7</th>\n",
       "      <td>Córdoba</td>\n",
       "      <td>1727</td>\n",
       "      <td>1.92</td>\n",
       "    </tr>\n",
       "    <tr>\n",
       "      <th>13</th>\n",
       "      <td>Mendoza</td>\n",
       "      <td>400</td>\n",
       "      <td>0.44</td>\n",
       "    </tr>\n",
       "    <tr>\n",
       "      <th>5</th>\n",
       "      <td>Chubut</td>\n",
       "      <td>335</td>\n",
       "      <td>0.37</td>\n",
       "    </tr>\n",
       "    <tr>\n",
       "      <th>8</th>\n",
       "      <td>Entre Ríos</td>\n",
       "      <td>249</td>\n",
       "      <td>0.28</td>\n",
       "    </tr>\n",
       "    <tr>\n",
       "      <th>24</th>\n",
       "      <td>Tucumán</td>\n",
       "      <td>214</td>\n",
       "      <td>0.24</td>\n",
       "    </tr>\n",
       "    <tr>\n",
       "      <th>18</th>\n",
       "      <td>San Juan</td>\n",
       "      <td>132</td>\n",
       "      <td>0.15</td>\n",
       "    </tr>\n",
       "    <tr>\n",
       "      <th>17</th>\n",
       "      <td>Salta</td>\n",
       "      <td>131</td>\n",
       "      <td>0.15</td>\n",
       "    </tr>\n",
       "    <tr>\n",
       "      <th>14</th>\n",
       "      <td>Misiones</td>\n",
       "      <td>122</td>\n",
       "      <td>0.14</td>\n",
       "    </tr>\n",
       "    <tr>\n",
       "      <th>16</th>\n",
       "      <td>Río Negro</td>\n",
       "      <td>119</td>\n",
       "      <td>0.13</td>\n",
       "    </tr>\n",
       "    <tr>\n",
       "      <th>6</th>\n",
       "      <td>Corrientes</td>\n",
       "      <td>110</td>\n",
       "      <td>0.12</td>\n",
       "    </tr>\n",
       "    <tr>\n",
       "      <th>15</th>\n",
       "      <td>Neuquén</td>\n",
       "      <td>87</td>\n",
       "      <td>0.10</td>\n",
       "    </tr>\n",
       "    <tr>\n",
       "      <th>4</th>\n",
       "      <td>Chaco</td>\n",
       "      <td>69</td>\n",
       "      <td>0.08</td>\n",
       "    </tr>\n",
       "    <tr>\n",
       "      <th>11</th>\n",
       "      <td>La Pampa</td>\n",
       "      <td>70</td>\n",
       "      <td>0.08</td>\n",
       "    </tr>\n",
       "    <tr>\n",
       "      <th>19</th>\n",
       "      <td>San Luis</td>\n",
       "      <td>56</td>\n",
       "      <td>0.06</td>\n",
       "    </tr>\n",
       "    <tr>\n",
       "      <th>10</th>\n",
       "      <td>Jujuy</td>\n",
       "      <td>33</td>\n",
       "      <td>0.04</td>\n",
       "    </tr>\n",
       "    <tr>\n",
       "      <th>9</th>\n",
       "      <td>Formosa</td>\n",
       "      <td>28</td>\n",
       "      <td>0.03</td>\n",
       "    </tr>\n",
       "    <tr>\n",
       "      <th>22</th>\n",
       "      <td>Santiago del Estero</td>\n",
       "      <td>26</td>\n",
       "      <td>0.03</td>\n",
       "    </tr>\n",
       "    <tr>\n",
       "      <th>12</th>\n",
       "      <td>La Rioja</td>\n",
       "      <td>16</td>\n",
       "      <td>0.02</td>\n",
       "    </tr>\n",
       "    <tr>\n",
       "      <th>20</th>\n",
       "      <td>Santa Cruz</td>\n",
       "      <td>22</td>\n",
       "      <td>0.02</td>\n",
       "    </tr>\n",
       "    <tr>\n",
       "      <th>3</th>\n",
       "      <td>Catamarca</td>\n",
       "      <td>20</td>\n",
       "      <td>0.02</td>\n",
       "    </tr>\n",
       "    <tr>\n",
       "      <th>23</th>\n",
       "      <td>Tierra del Fuego</td>\n",
       "      <td>10</td>\n",
       "      <td>0.01</td>\n",
       "    </tr>\n",
       "    <tr>\n",
       "      <th>0</th>\n",
       "      <td></td>\n",
       "      <td>1</td>\n",
       "      <td>0.00</td>\n",
       "    </tr>\n",
       "  </tbody>\n",
       "</table>\n",
       "</div>"
      ],
      "text/plain": [
       "   seller_address_state_name  cantidad_registros  porcentaje\n",
       "2            Capital Federal               52143       57.94\n",
       "1               Buenos Aires               31482       34.98\n",
       "21                  Santa Fe                2398        2.66\n",
       "7                    Córdoba                1727        1.92\n",
       "13                   Mendoza                 400        0.44\n",
       "5                     Chubut                 335        0.37\n",
       "8                 Entre Ríos                 249        0.28\n",
       "24                   Tucumán                 214        0.24\n",
       "18                  San Juan                 132        0.15\n",
       "17                     Salta                 131        0.15\n",
       "14                  Misiones                 122        0.14\n",
       "16                 Río Negro                 119        0.13\n",
       "6                 Corrientes                 110        0.12\n",
       "15                   Neuquén                  87        0.10\n",
       "4                      Chaco                  69        0.08\n",
       "11                  La Pampa                  70        0.08\n",
       "19                  San Luis                  56        0.06\n",
       "10                     Jujuy                  33        0.04\n",
       "9                    Formosa                  28        0.03\n",
       "22       Santiago del Estero                  26        0.03\n",
       "12                  La Rioja                  16        0.02\n",
       "20                Santa Cruz                  22        0.02\n",
       "3                  Catamarca                  20        0.02\n",
       "23          Tierra del Fuego                  10        0.01\n",
       "0                                              1        0.00"
      ]
     },
     "metadata": {},
     "output_type": "display_data"
    }
   ],
   "source": [
    "descr_categorico(df_EDA,'seller_address_state_name',is_target=True, graficar=False)"
   ]
  },
  {
   "cell_type": "markdown",
   "metadata": {},
   "source": [
    "**shipping_mode**\n",
    "[fuente meli](https://developers.mercadolibre.com.ec/mercado-envios)\n",
    "\n",
    "- Mercado Envíos 1 (ME1): es una modalidad de envío que permite a los vendedores vender a través de Mercado Libre, utilizando su propia logística o servicios de terceros.\n",
    "- Mercado Envíos 2 (ME2): es la modalidad de envío de Mercado Libre, donde se gestiona toda la logística utilizando diversos medios como correos, agencias, entre otros. Esta modalidad se divide a su vez en los siguiente tipos de logística:\n",
    "    - Mercado Envíos Drop_off\n",
    "    - Mercado Envíos Colectas (cross_docking) y Places (xd_drop_off)\n",
    "    - Mercado Envíos Flex (self_service)\n",
    "    - Mercado Envíos Turbo (turbo)\n",
    "    - Mercado Envíos Full (fulfillment)\n",
    "- Custom: es una modalidad de envío donde el vendedor carga una tabla con los precios de envío por cada región y se encarga de la logística.\n",
    "- Not Specified: es una modalidad de envío donde el vendedor no especifica ningún precio de envío para sus publicaciones y debe ponerse en contacto con el comprador para coordinar el envío.\n",
    "\n",
    "esta variable se transformara en binaria y sera un flg que cuando sea igual a not_specified = 1 de resto sera 0"
   ]
  },
  {
   "cell_type": "code",
   "execution_count": 247,
   "metadata": {},
   "outputs": [
    {
     "data": {
      "text/html": [
       "<div>\n",
       "<style scoped>\n",
       "    .dataframe tbody tr th:only-of-type {\n",
       "        vertical-align: middle;\n",
       "    }\n",
       "\n",
       "    .dataframe tbody tr th {\n",
       "        vertical-align: top;\n",
       "    }\n",
       "\n",
       "    .dataframe thead th {\n",
       "        text-align: right;\n",
       "    }\n",
       "</style>\n",
       "<table border=\"1\" class=\"dataframe\">\n",
       "  <thead>\n",
       "    <tr style=\"text-align: right;\">\n",
       "      <th></th>\n",
       "      <th>shipping_mode</th>\n",
       "      <th>cantidad_registros</th>\n",
       "      <th>porcentaje</th>\n",
       "    </tr>\n",
       "  </thead>\n",
       "  <tbody>\n",
       "    <tr>\n",
       "      <th>2</th>\n",
       "      <td>me2</td>\n",
       "      <td>46059</td>\n",
       "      <td>51.18</td>\n",
       "    </tr>\n",
       "    <tr>\n",
       "      <th>3</th>\n",
       "      <td>not_specified</td>\n",
       "      <td>40725</td>\n",
       "      <td>45.25</td>\n",
       "    </tr>\n",
       "    <tr>\n",
       "      <th>0</th>\n",
       "      <td>custom</td>\n",
       "      <td>3130</td>\n",
       "      <td>3.48</td>\n",
       "    </tr>\n",
       "    <tr>\n",
       "      <th>1</th>\n",
       "      <td>me1</td>\n",
       "      <td>86</td>\n",
       "      <td>0.10</td>\n",
       "    </tr>\n",
       "  </tbody>\n",
       "</table>\n",
       "</div>"
      ],
      "text/plain": [
       "   shipping_mode  cantidad_registros  porcentaje\n",
       "2            me2               46059       51.18\n",
       "3  not_specified               40725       45.25\n",
       "0         custom                3130        3.48\n",
       "1            me1                  86        0.10"
      ]
     },
     "metadata": {},
     "output_type": "display_data"
    },
    {
     "data": {
      "image/png": "[encoded data removed]",
      "text/plain": [
       "<Figure size 500x300 with 1 Axes>"
      ]
     },
     "metadata": {},
     "output_type": "display_data"
    }
   ],
   "source": [
    "descr_categorico(df_EDA,\"shipping_mode\",is_target=True)"
   ]
  },
  {
   "cell_type": "code",
   "execution_count": 248,
   "metadata": {},
   "outputs": [],
   "source": [
    "df_EDA[\"flg_buy_it_now\"] = df_EDA[\"buying_mode\"].isin([\"buy_it_now\"]).astype(int)\n",
    "df_EDA[\"flg_is_capital_city\"] = df_EDA[\"seller_address_state_name\"].str.lower().isin([\"capital federal\"]).astype(int)\n",
    "df_EDA[\"flg_ship_not_specified\"] = df_EDA[\"shipping_mode\"].isin([\"not_specified\"]).astype(int)\n",
    "\n",
    "df_EDA = df_EDA.drop(columns=[\"buying_mode\",\"seller_address_state_name\",\"buying_mode\"])"
   ]
  },
  {
   "cell_type": "markdown",
   "metadata": {},
   "source": [
    "##### Variable inmobiliaria\n",
    "\n",
    "las siguientes variables se relacionan entre si ya que al analizar la cantidad de valores faltantes es evidente que es el mismo valor para todas estas columnas, por lo que se infiere que todas estas variables pueden indicar la presencia o no de algo.\n",
    "\n",
    "Al analizar el valor de la variable *seller_contact_contact* con un wordCloud se evidencia que el tema comun es bienes raices. \n",
    "\n",
    "Por lo tanto las columnas enunciadas a continuacion **seran reemplazadas** por un ***flag* que indica que es del tipo inmobiliario** cuando hay un valor en la variable *seller_contact_contact*\n",
    "\n",
    "- seller_contact_email\n",
    "- seller_contact_contact\n",
    "- seller_contact_area_code\n",
    "- seller_contact_phone\n",
    "- location_neighborhood_name\n",
    "- location_longitude\n",
    "- location_address_line\n",
    "- location_latitude\n",
    "- location_city_name\n",
    "- location_state_name"
   ]
  },
  {
   "cell_type": "code",
   "execution_count": 249,
   "metadata": {},
   "outputs": [
    {
     "data": {
      "text/plain": [
       "seller_contact_email          88018\n",
       "seller_contact_contact        88018\n",
       "seller_contact_area_code      88018\n",
       "seller_contact_phone          88018\n",
       "location_neighborhood_name    88018\n",
       "location_longitude            88018\n",
       "location_address_line         88018\n",
       "location_latitude             88018\n",
       "location_city_name            88018\n",
       "location_state_name           88018\n",
       "dtype: int64"
      ]
     },
     "execution_count": 249,
     "metadata": {},
     "output_type": "execute_result"
    }
   ],
   "source": [
    "# analisis de valores nulos\n",
    "cols_location = ['seller_contact_email', 'seller_contact_contact',\n",
    "       'seller_contact_area_code', 'seller_contact_phone',\n",
    "       'location_neighborhood_name', 'location_longitude',\n",
    "       'location_address_line', 'location_latitude', 'location_city_name',\n",
    "       'location_state_name']\n",
    "\n",
    "df_EDA[cols_location].isna().sum()"
   ]
  },
  {
   "cell_type": "code",
   "execution_count": 250,
   "metadata": {},
   "outputs": [
    {
     "data": {
      "image/png": "[encoded data removed]",
      "text/plain": [
       "<Figure size 700x500 with 1 Axes>"
      ]
     },
     "metadata": {},
     "output_type": "display_data"
    }
   ],
   "source": [
    "crear_wordcloud(df_EDA,'seller_contact_contact')"
   ]
  },
  {
   "cell_type": "code",
   "execution_count": 251,
   "metadata": {},
   "outputs": [
    {
     "name": "stdout",
     "output_type": "stream",
     "text": [
      "df con transformacion:\n",
      "numero de filas: 90000.\n",
      "numero de columnas: 34\n"
     ]
    }
   ],
   "source": [
    "# Transformacion\n",
    "df_EDA[\"flg_inmobiliario\"] = (~df_EDA['seller_contact_contact'].replace(\"\",np.nan).isna()).astype(int)\n",
    "df_EDA = df_EDA.drop(columns=cols_location)\n",
    "print(\"df con transformacion:\")\n",
    "print(f\"numero de filas: {df_EDA.shape[0]}.\\nnumero de columnas: {df_EDA.shape[1]}\")"
   ]
  },
  {
   "cell_type": "markdown",
   "metadata": {},
   "source": [
    "#### Nuevas variables\n",
    "\n",
    "En esta seccion se exponen las nuevas variables creadas a partir de las existentes, con el objetivo de enriquecer el analisis, a partir de nueva informacion."
   ]
  },
  {
   "cell_type": "markdown",
   "metadata": {},
   "source": [
    "##### conteo de elementos\n",
    "En esta transformacion se realiza el conteo de elementos que esta en cada columna analizada y dicha variable <span style=\"color: orange;\">reemplazará a la original</span>"
   ]
  },
  {
   "cell_type": "code",
   "execution_count": 252,
   "metadata": {},
   "outputs": [],
   "source": [
    "def transform_num_elements_json(df,col,new_name):\n",
    "    df[new_name] = df[col].str.len().fillna(0)\n",
    "    if col != \"non_mercado_pago_payment_methods\":\n",
    "        df.drop(columns = [col], inplace=True)\n",
    "    return df"
   ]
  },
  {
   "cell_type": "markdown",
   "metadata": {},
   "source": [
    "- **variations:**([referencia meli](https://developers.mercadolibre.com.ar/en_us/variations)) Esta columna tiene informacion de distintas opciones que hay para el producto ofertado, estas opciones pueden ser diferentes colores, tallas entre otras propiedades. En este caso no se busca obtener la informacion alli contenida si no la cantidad de variaciones que tiene cada producto ya que un producto nuevo puede que tenga mas opciones que uno usado ya que en el caso de un usado se esta vendiendo ese unico item\n",
    "\n",
    "<div style=\"display: flex; justify-content: center; align-items: center;\">\n",
    "  <img src=\"../imagenes/tipos_variaciones_1.png\" style=\"height: 150px; margin-right: 10px;\"/>\n",
    "  <img src=\"../imagenes/tipos_variaciones_2.png\" style=\"height: 150px;\"/>\n",
    "</div>"
   ]
  },
  {
   "cell_type": "code",
   "execution_count": 253,
   "metadata": {},
   "outputs": [
    {
     "data": {
      "text/html": [
       "<div>\n",
       "<style scoped>\n",
       "    .dataframe tbody tr th:only-of-type {\n",
       "        vertical-align: middle;\n",
       "    }\n",
       "\n",
       "    .dataframe tbody tr th {\n",
       "        vertical-align: top;\n",
       "    }\n",
       "\n",
       "    .dataframe thead th {\n",
       "        text-align: right;\n",
       "    }\n",
       "</style>\n",
       "<table border=\"1\" class=\"dataframe\">\n",
       "  <thead>\n",
       "    <tr style=\"text-align: right;\">\n",
       "      <th></th>\n",
       "      <th>0</th>\n",
       "      <th>1</th>\n",
       "    </tr>\n",
       "  </thead>\n",
       "  <tbody>\n",
       "    <tr>\n",
       "      <th>variations</th>\n",
       "      <td>7374.0</td>\n",
       "      <td>0.081933</td>\n",
       "    </tr>\n",
       "  </tbody>\n",
       "</table>\n",
       "</div>"
      ],
      "text/plain": [
       "                 0         1\n",
       "variations  7374.0  0.081933"
      ]
     },
     "metadata": {},
     "output_type": "display_data"
    },
    {
     "data": {
      "text/html": [
       "<div>\n",
       "<style scoped>\n",
       "    .dataframe tbody tr th:only-of-type {\n",
       "        vertical-align: middle;\n",
       "    }\n",
       "\n",
       "    .dataframe tbody tr th {\n",
       "        vertical-align: top;\n",
       "    }\n",
       "\n",
       "    .dataframe thead th {\n",
       "        text-align: right;\n",
       "    }\n",
       "</style>\n",
       "<table border=\"1\" class=\"dataframe\">\n",
       "  <thead>\n",
       "    <tr style=\"text-align: right;\">\n",
       "      <th></th>\n",
       "      <th>attribute_combinations</th>\n",
       "      <th>seller_custom_field</th>\n",
       "      <th>picture_ids</th>\n",
       "      <th>sold_quantity</th>\n",
       "      <th>available_quantity</th>\n",
       "      <th>id</th>\n",
       "      <th>price</th>\n",
       "    </tr>\n",
       "  </thead>\n",
       "  <tbody>\n",
       "    <tr>\n",
       "      <th>0</th>\n",
       "      <td>[{'value_id': '92013', 'name': 'Color Primario...</td>\n",
       "      <td>None</td>\n",
       "      <td>[21897-MLA20219050871_122014, 21826-MLA2021905...</td>\n",
       "      <td>1</td>\n",
       "      <td>2</td>\n",
       "      <td>9391988875</td>\n",
       "      <td>590.0</td>\n",
       "    </tr>\n",
       "    <tr>\n",
       "      <th>1</th>\n",
       "      <td>[{'value_id': '92013', 'name': 'Color Primario...</td>\n",
       "      <td>None</td>\n",
       "      <td>[21897-MLA20219050871_122014, 21826-MLA2021905...</td>\n",
       "      <td>0</td>\n",
       "      <td>2</td>\n",
       "      <td>9391988878</td>\n",
       "      <td>590.0</td>\n",
       "    </tr>\n",
       "  </tbody>\n",
       "</table>\n",
       "</div>"
      ],
      "text/plain": [
       "                              attribute_combinations seller_custom_field  \\\n",
       "0  [{'value_id': '92013', 'name': 'Color Primario...                None   \n",
       "1  [{'value_id': '92013', 'name': 'Color Primario...                None   \n",
       "\n",
       "                                         picture_ids  sold_quantity  \\\n",
       "0  [21897-MLA20219050871_122014, 21826-MLA2021905...              1   \n",
       "1  [21897-MLA20219050871_122014, 21826-MLA2021905...              0   \n",
       "\n",
       "   available_quantity          id  price  \n",
       "0                   2  9391988875  590.0  \n",
       "1                   2  9391988878  590.0  "
      ]
     },
     "execution_count": 253,
     "metadata": {},
     "output_type": "execute_result"
    }
   ],
   "source": [
    "# cantidad de elementos no nulos\n",
    "display(df_EDA[[\"variations\"]].apply(lambda col: valida_contenido_json(col), result_type='expand').T)\n",
    "\n",
    "# ejemplo de un producto con 2 variaciones\n",
    "explore_json_column(df_EDA,\"variations\",2).head(2)"
   ]
  },
  {
   "cell_type": "code",
   "execution_count": 254,
   "metadata": {},
   "outputs": [],
   "source": [
    "df_EDA = transform_num_elements_json(df_EDA,\"variations\",\"num_variations\")"
   ]
  },
  {
   "cell_type": "markdown",
   "metadata": {},
   "source": [
    "- **attributes:** ([referencia meli](https://developers.mercadolibre.com.ar/en_us/attributes)) esta variable contiene propiedades del producto, siguiendo la misma logica que con la columna variations, un producto nuevo puede que tenga mas artibutos que uno usado ya que en el caso de un usado se esta vendiendo ese unico item"
   ]
  },
  {
   "cell_type": "code",
   "execution_count": 255,
   "metadata": {},
   "outputs": [
    {
     "data": {
      "text/html": [
       "<div>\n",
       "<style scoped>\n",
       "    .dataframe tbody tr th:only-of-type {\n",
       "        vertical-align: middle;\n",
       "    }\n",
       "\n",
       "    .dataframe tbody tr th {\n",
       "        vertical-align: top;\n",
       "    }\n",
       "\n",
       "    .dataframe thead th {\n",
       "        text-align: right;\n",
       "    }\n",
       "</style>\n",
       "<table border=\"1\" class=\"dataframe\">\n",
       "  <thead>\n",
       "    <tr style=\"text-align: right;\">\n",
       "      <th></th>\n",
       "      <th>0</th>\n",
       "      <th>1</th>\n",
       "    </tr>\n",
       "  </thead>\n",
       "  <tbody>\n",
       "    <tr>\n",
       "      <th>attributes</th>\n",
       "      <td>11150.0</td>\n",
       "      <td>0.123889</td>\n",
       "    </tr>\n",
       "  </tbody>\n",
       "</table>\n",
       "</div>"
      ],
      "text/plain": [
       "                  0         1\n",
       "attributes  11150.0  0.123889"
      ]
     },
     "metadata": {},
     "output_type": "display_data"
    },
    {
     "data": {
      "text/html": [
       "<div>\n",
       "<style scoped>\n",
       "    .dataframe tbody tr th:only-of-type {\n",
       "        vertical-align: middle;\n",
       "    }\n",
       "\n",
       "    .dataframe tbody tr th {\n",
       "        vertical-align: top;\n",
       "    }\n",
       "\n",
       "    .dataframe thead th {\n",
       "        text-align: right;\n",
       "    }\n",
       "</style>\n",
       "<table border=\"1\" class=\"dataframe\">\n",
       "  <thead>\n",
       "    <tr style=\"text-align: right;\">\n",
       "      <th></th>\n",
       "      <th>value_id</th>\n",
       "      <th>attribute_group_id</th>\n",
       "      <th>name</th>\n",
       "      <th>value_name</th>\n",
       "      <th>attribute_group_name</th>\n",
       "      <th>id</th>\n",
       "    </tr>\n",
       "  </thead>\n",
       "  <tbody>\n",
       "    <tr>\n",
       "      <th>0</th>\n",
       "      <td></td>\n",
       "      <td>ADICIONALES</td>\n",
       "      <td>Horario de contacto</td>\n",
       "      <td>09 HS A 19 HS</td>\n",
       "      <td>Adicionales</td>\n",
       "      <td>MLA1743-HORPREF</td>\n",
       "    </tr>\n",
       "    <tr>\n",
       "      <th>1</th>\n",
       "      <td>MLA1744-COLOREXT-PLATA</td>\n",
       "      <td>ADICIONALES</td>\n",
       "      <td>Color</td>\n",
       "      <td>Plata</td>\n",
       "      <td>Adicionales</td>\n",
       "      <td>MLA1744-COLOREXT</td>\n",
       "    </tr>\n",
       "    <tr>\n",
       "      <th>2</th>\n",
       "      <td>MLA1744-DIREC-ASISTIDA</td>\n",
       "      <td>ADICIONALES</td>\n",
       "      <td>Dirección</td>\n",
       "      <td>Asistida</td>\n",
       "      <td>Adicionales</td>\n",
       "      <td>MLA1744-DIREC</td>\n",
       "    </tr>\n",
       "    <tr>\n",
       "      <th>3</th>\n",
       "      <td></td>\n",
       "      <td>ADICIONALES</td>\n",
       "      <td>Único dueño</td>\n",
       "      <td></td>\n",
       "      <td>Adicionales</td>\n",
       "      <td>MLA1744-OWNER</td>\n",
       "    </tr>\n",
       "  </tbody>\n",
       "</table>\n",
       "</div>"
      ],
      "text/plain": [
       "                 value_id attribute_group_id                 name  \\\n",
       "0                                ADICIONALES  Horario de contacto   \n",
       "1  MLA1744-COLOREXT-PLATA        ADICIONALES                Color   \n",
       "2  MLA1744-DIREC-ASISTIDA        ADICIONALES            Dirección   \n",
       "3                                ADICIONALES          Único dueño   \n",
       "\n",
       "      value_name attribute_group_name                id  \n",
       "0  09 HS A 19 HS          Adicionales   MLA1743-HORPREF  \n",
       "1          Plata          Adicionales  MLA1744-COLOREXT  \n",
       "2       Asistida          Adicionales     MLA1744-DIREC  \n",
       "3                         Adicionales     MLA1744-OWNER  "
      ]
     },
     "execution_count": 255,
     "metadata": {},
     "output_type": "execute_result"
    }
   ],
   "source": [
    "# cantidad de elementos no nulos\n",
    "display(df_EDA[[\"attributes\"]].apply(lambda col: valida_contenido_json(col), result_type='expand').T)\n",
    "\n",
    "explore_json_column(df_EDA,\"attributes\",4).head(4)"
   ]
  },
  {
   "cell_type": "markdown",
   "metadata": {},
   "source": [
    "- **tags:** ([referencia meli](https://developers.mercadolibre.cl/es_ar/publica-productos#Tags-de-un-item)) estos tags dan propiedades de la publicacion, al igual que en los elementos pasados se teoriza que la cantidad de tags pueda ser un indicador del tipo de producto nuevo o usado"
   ]
  },
  {
   "cell_type": "code",
   "execution_count": 256,
   "metadata": {},
   "outputs": [
    {
     "data": {
      "text/html": [
       "<div>\n",
       "<style scoped>\n",
       "    .dataframe tbody tr th:only-of-type {\n",
       "        vertical-align: middle;\n",
       "    }\n",
       "\n",
       "    .dataframe tbody tr th {\n",
       "        vertical-align: top;\n",
       "    }\n",
       "\n",
       "    .dataframe thead th {\n",
       "        text-align: right;\n",
       "    }\n",
       "</style>\n",
       "<table border=\"1\" class=\"dataframe\">\n",
       "  <thead>\n",
       "    <tr style=\"text-align: right;\">\n",
       "      <th></th>\n",
       "      <th>0</th>\n",
       "      <th>1</th>\n",
       "    </tr>\n",
       "  </thead>\n",
       "  <tbody>\n",
       "    <tr>\n",
       "      <th>tags</th>\n",
       "      <td>67588.0</td>\n",
       "      <td>0.750978</td>\n",
       "    </tr>\n",
       "  </tbody>\n",
       "</table>\n",
       "</div>"
      ],
      "text/plain": [
       "            0         1\n",
       "tags  67588.0  0.750978"
      ]
     },
     "metadata": {},
     "output_type": "display_data"
    },
    {
     "data": {
      "text/plain": [
       "array(['dragged_bids_and_visits', 'good_quality_thumbnail',\n",
       "       'dragged_visits', 'free_relist', 'poor_quality_thumbnail'],\n",
       "      dtype=object)"
      ]
     },
     "execution_count": 256,
     "metadata": {},
     "output_type": "execute_result"
    }
   ],
   "source": [
    "# cantidad de elementos no nulos\n",
    "display(df_EDA[[\"tags\"]].apply(lambda col: valida_contenido_json(col), result_type='expand').T)\n",
    "\n",
    "df_EDA.loc[df_EDA[\"tags\"].str.len() > 0,\"tags\"].\\\n",
    "                                explode(\"tags\").unique()"
   ]
  },
  {
   "cell_type": "markdown",
   "metadata": {},
   "source": [
    "- **pictures:** si bien esta columna contiene mucha informacion de la foto adjunta al producto, que podria ser enriqueecedora como el tamaño y la calidad, en este caso se tendra la variable con la cantidad de fotos adjunta al producto.\n",
    "\n",
    "<div style=\"display: flex; justify-content: center; align-items: center;\">\n",
    "  <img src=\"../imagenes/var_pictures.png\" style=\"height: 200px; margin-right: 10px;\"/>\n",
    "</div>"
   ]
  },
  {
   "cell_type": "code",
   "execution_count": 257,
   "metadata": {},
   "outputs": [
    {
     "data": {
      "text/html": [
       "<div>\n",
       "<style scoped>\n",
       "    .dataframe tbody tr th:only-of-type {\n",
       "        vertical-align: middle;\n",
       "    }\n",
       "\n",
       "    .dataframe tbody tr th {\n",
       "        vertical-align: top;\n",
       "    }\n",
       "\n",
       "    .dataframe thead th {\n",
       "        text-align: right;\n",
       "    }\n",
       "</style>\n",
       "<table border=\"1\" class=\"dataframe\">\n",
       "  <thead>\n",
       "    <tr style=\"text-align: right;\">\n",
       "      <th></th>\n",
       "      <th>0</th>\n",
       "      <th>1</th>\n",
       "    </tr>\n",
       "  </thead>\n",
       "  <tbody>\n",
       "    <tr>\n",
       "      <th>pictures</th>\n",
       "      <td>89297.0</td>\n",
       "      <td>0.992189</td>\n",
       "    </tr>\n",
       "  </tbody>\n",
       "</table>\n",
       "</div>"
      ],
      "text/plain": [
       "                0         1\n",
       "pictures  89297.0  0.992189"
      ]
     },
     "metadata": {},
     "output_type": "display_data"
    },
    {
     "data": {
      "text/html": [
       "<div>\n",
       "<style scoped>\n",
       "    .dataframe tbody tr th:only-of-type {\n",
       "        vertical-align: middle;\n",
       "    }\n",
       "\n",
       "    .dataframe tbody tr th {\n",
       "        vertical-align: top;\n",
       "    }\n",
       "\n",
       "    .dataframe thead th {\n",
       "        text-align: right;\n",
       "    }\n",
       "</style>\n",
       "<table border=\"1\" class=\"dataframe\">\n",
       "  <thead>\n",
       "    <tr style=\"text-align: right;\">\n",
       "      <th></th>\n",
       "      <th>size</th>\n",
       "      <th>secure_url</th>\n",
       "      <th>max_size</th>\n",
       "      <th>url</th>\n",
       "      <th>quality</th>\n",
       "      <th>id</th>\n",
       "    </tr>\n",
       "  </thead>\n",
       "  <tbody>\n",
       "    <tr>\n",
       "      <th>0</th>\n",
       "      <td>499x334</td>\n",
       "      <td>https://a248.e.akamai.net/mla-s1-p.mlstatic.co...</td>\n",
       "      <td>951x637</td>\n",
       "      <td>http://mla-s1-p.mlstatic.com/23223-MLA20245018...</td>\n",
       "      <td></td>\n",
       "      <td>23223-MLA20245018984_022015</td>\n",
       "    </tr>\n",
       "    <tr>\n",
       "      <th>1</th>\n",
       "      <td>500x375</td>\n",
       "      <td>https://a248.e.akamai.net/mla-s2-p.mlstatic.co...</td>\n",
       "      <td>1024x768</td>\n",
       "      <td>http://mla-s2-p.mlstatic.com/23273-MLA20245018...</td>\n",
       "      <td></td>\n",
       "      <td>23273-MLA20245018989_022015</td>\n",
       "    </tr>\n",
       "  </tbody>\n",
       "</table>\n",
       "</div>"
      ],
      "text/plain": [
       "      size                                         secure_url  max_size  \\\n",
       "0  499x334  https://a248.e.akamai.net/mla-s1-p.mlstatic.co...   951x637   \n",
       "1  500x375  https://a248.e.akamai.net/mla-s2-p.mlstatic.co...  1024x768   \n",
       "\n",
       "                                                 url quality  \\\n",
       "0  http://mla-s1-p.mlstatic.com/23223-MLA20245018...           \n",
       "1  http://mla-s2-p.mlstatic.com/23273-MLA20245018...           \n",
       "\n",
       "                            id  \n",
       "0  23223-MLA20245018984_022015  \n",
       "1  23273-MLA20245018989_022015  "
      ]
     },
     "execution_count": 257,
     "metadata": {},
     "output_type": "execute_result"
    }
   ],
   "source": [
    "# cantidad de elementos no nulos\n",
    "display(df_EDA[[\"pictures\"]].apply(lambda col: valida_contenido_json(col), result_type='expand').T)\n",
    "\n",
    "explore_json_column(df_EDA,\"pictures\",2).head(2)"
   ]
  },
  {
   "cell_type": "markdown",
   "metadata": {},
   "source": [
    "- **non_mercado_pago_payment_methods:** esta columna contiene informacion de los tipos de metodos de pago aceptados por el vendedor. se transforma en un conteo de la cantidad de metodos ya que se espera que la cantidad de elementos de pagos este relacionado con el tipo de producto."
   ]
  },
  {
   "cell_type": "code",
   "execution_count": 258,
   "metadata": {},
   "outputs": [
    {
     "data": {
      "text/html": [
       "<div>\n",
       "<style scoped>\n",
       "    .dataframe tbody tr th:only-of-type {\n",
       "        vertical-align: middle;\n",
       "    }\n",
       "\n",
       "    .dataframe tbody tr th {\n",
       "        vertical-align: top;\n",
       "    }\n",
       "\n",
       "    .dataframe thead th {\n",
       "        text-align: right;\n",
       "    }\n",
       "</style>\n",
       "<table border=\"1\" class=\"dataframe\">\n",
       "  <thead>\n",
       "    <tr style=\"text-align: right;\">\n",
       "      <th></th>\n",
       "      <th>0</th>\n",
       "      <th>1</th>\n",
       "    </tr>\n",
       "  </thead>\n",
       "  <tbody>\n",
       "    <tr>\n",
       "      <th>non_mercado_pago_payment_methods</th>\n",
       "      <td>62469.0</td>\n",
       "      <td>0.6941</td>\n",
       "    </tr>\n",
       "  </tbody>\n",
       "</table>\n",
       "</div>"
      ],
      "text/plain": [
       "                                        0       1\n",
       "non_mercado_pago_payment_methods  62469.0  0.6941"
      ]
     },
     "metadata": {},
     "output_type": "display_data"
    },
    {
     "data": {
      "text/html": [
       "<div>\n",
       "<style scoped>\n",
       "    .dataframe tbody tr th:only-of-type {\n",
       "        vertical-align: middle;\n",
       "    }\n",
       "\n",
       "    .dataframe tbody tr th {\n",
       "        vertical-align: top;\n",
       "    }\n",
       "\n",
       "    .dataframe thead th {\n",
       "        text-align: right;\n",
       "    }\n",
       "</style>\n",
       "<table border=\"1\" class=\"dataframe\">\n",
       "  <thead>\n",
       "    <tr style=\"text-align: right;\">\n",
       "      <th></th>\n",
       "      <th>description</th>\n",
       "      <th>id</th>\n",
       "      <th>type</th>\n",
       "    </tr>\n",
       "  </thead>\n",
       "  <tbody>\n",
       "    <tr>\n",
       "      <th>0</th>\n",
       "      <td>MasterCard</td>\n",
       "      <td>MLAMC</td>\n",
       "      <td>C</td>\n",
       "    </tr>\n",
       "    <tr>\n",
       "      <th>1</th>\n",
       "      <td>Mastercard Maestro</td>\n",
       "      <td>MLAMS</td>\n",
       "      <td>D</td>\n",
       "    </tr>\n",
       "    <tr>\n",
       "      <th>2</th>\n",
       "      <td>Visa Electron</td>\n",
       "      <td>MLAVE</td>\n",
       "      <td>D</td>\n",
       "    </tr>\n",
       "    <tr>\n",
       "      <th>3</th>\n",
       "      <td>Contra reembolso</td>\n",
       "      <td>MLACD</td>\n",
       "      <td>G</td>\n",
       "    </tr>\n",
       "  </tbody>\n",
       "</table>\n",
       "</div>"
      ],
      "text/plain": [
       "          description     id type\n",
       "0          MasterCard  MLAMC    C\n",
       "1  Mastercard Maestro  MLAMS    D\n",
       "2       Visa Electron  MLAVE    D\n",
       "3    Contra reembolso  MLACD    G"
      ]
     },
     "execution_count": 258,
     "metadata": {},
     "output_type": "execute_result"
    }
   ],
   "source": [
    "display(df_EDA[[\"non_mercado_pago_payment_methods\"]].apply(lambda col: valida_contenido_json(col), result_type='expand').T)\n",
    "\n",
    "explore_json_column(df_EDA,\"non_mercado_pago_payment_methods\",4).head(4)"
   ]
  },
  {
   "cell_type": "code",
   "execution_count": 259,
   "metadata": {},
   "outputs": [],
   "source": [
    "dict_transform_num_elements = {\n",
    "    \"variations\": \"num_variations\",\n",
    "    \"attributes\": \"num_attributes\",\n",
    "    \"tags\":\"num_tags\",\n",
    "    \"pictures\": \"num_pictures\",\n",
    "    \"shipping_free_methods\":\"num_shipping_free_methods\",\n",
    "    \"non_mercado_pago_payment_methods\":\"num_payment_methods\"\n",
    "    }\n",
    "    \n",
    "for original_column, new_column in dict_transform_num_elements.items():\n",
    "    df = transform_num_elements_json(df, original_column, new_column)"
   ]
  },
  {
   "cell_type": "markdown",
   "metadata": {},
   "source": [
    "##### indicador de variacion\n",
    "Esta transformacion crea una variable que compara dos valores e indica si la diferencia entre estos es positiva, negativa o son iguales, esto por medio de una codigicacion de numeros entre -1 y 1, como es muestra a continuacion\n",
    "\n",
    "$$\n",
    "\\text{variacion} = \\text{valor base} - \\text{valor comparado}\n",
    "$$\n",
    "\n",
    "<center>\n",
    "\n",
    "| Valor | Interpretación                                    |\n",
    "|-------|---------------------------------------------------|\n",
    "| 1     | Si la variacion es positiva                       |\n",
    "| 0     | Cuando no existe el dato base o no hay variación  |\n",
    "| -1    | Si la variacion es negativa                       |\n",
    "\n",
    "</center>"
   ]
  },
  {
   "cell_type": "markdown",
   "metadata": {},
   "source": [
    "- **variacion de precios**\n",
    "\n",
    "se toma la diferencia entre el precio de la variable **price** vs las dos variables adicionales de precio que son **original_price** y **base_price**\n",
    "puede ser que una diferencia indique un descuento o aumento del valor."
   ]
  },
  {
   "cell_type": "code",
   "execution_count": 260,
   "metadata": {},
   "outputs": [],
   "source": [
    "df_EDA[\"variation_base_price\"] = (np.sign(df_EDA[\"price\"]  - df_EDA[\"base_price\"])).fillna(0)\n",
    "df_EDA[\"variation_original_price\"] = (np.sign(df_EDA[\"price\"]  - df_EDA[\"original_price\"])).fillna(0)"
   ]
  },
  {
   "cell_type": "markdown",
   "metadata": {},
   "source": [
    "##### Scores\n",
    "para las variables se crea un score que dependera de las caracteristicas de cada una. el objetivo es transformar las variables en valores numericos que enriquezcan las variables, en general estos score requieren un valor incial que luego se aplica a la columna tratada, el resultado de esta transformacion es una nueva columna que <span style=\"color: orange;\">reemplazará a la original</span>"
   ]
  },
  {
   "cell_type": "markdown",
   "metadata": {},
   "source": [
    "- **seller_id:** Se puede enriquecer la informacion y crear una metrica que es el % de productos que tiene el vendedor que son usados, esto se realiza con cada cliente:\n",
    "\n",
    "formula\n",
    "$$\n",
    "\\text{score seller} = \\frac{\\text{cantidad de marca condición == used}}{\\text{total de productos}}\n",
    "$$"
   ]
  },
  {
   "cell_type": "code",
   "execution_count": 261,
   "metadata": {},
   "outputs": [
    {
     "data": {
      "text/html": [
       "<div>\n",
       "<style scoped>\n",
       "    .dataframe tbody tr th:only-of-type {\n",
       "        vertical-align: middle;\n",
       "    }\n",
       "\n",
       "    .dataframe tbody tr th {\n",
       "        vertical-align: top;\n",
       "    }\n",
       "\n",
       "    .dataframe thead th {\n",
       "        text-align: right;\n",
       "    }\n",
       "</style>\n",
       "<table border=\"1\" class=\"dataframe\">\n",
       "  <thead>\n",
       "    <tr style=\"text-align: right;\">\n",
       "      <th></th>\n",
       "      <th>binary_used</th>\n",
       "      <th>id</th>\n",
       "      <th>score_seller_used</th>\n",
       "    </tr>\n",
       "    <tr>\n",
       "      <th>seller_id</th>\n",
       "      <th></th>\n",
       "      <th></th>\n",
       "      <th></th>\n",
       "    </tr>\n",
       "  </thead>\n",
       "  <tbody>\n",
       "    <tr>\n",
       "      <th>7125093</th>\n",
       "      <td>406</td>\n",
       "      <td>408</td>\n",
       "      <td>0.995098</td>\n",
       "    </tr>\n",
       "    <tr>\n",
       "      <th>58869788</th>\n",
       "      <td>256</td>\n",
       "      <td>259</td>\n",
       "      <td>0.988417</td>\n",
       "    </tr>\n",
       "    <tr>\n",
       "      <th>76404673</th>\n",
       "      <td>209</td>\n",
       "      <td>244</td>\n",
       "      <td>0.856557</td>\n",
       "    </tr>\n",
       "    <tr>\n",
       "      <th>80028439</th>\n",
       "      <td>209</td>\n",
       "      <td>211</td>\n",
       "      <td>0.990521</td>\n",
       "    </tr>\n",
       "    <tr>\n",
       "      <th>79695643</th>\n",
       "      <td>168</td>\n",
       "      <td>183</td>\n",
       "      <td>0.918033</td>\n",
       "    </tr>\n",
       "  </tbody>\n",
       "</table>\n",
       "</div>"
      ],
      "text/plain": [
       "           binary_used   id  score_seller_used\n",
       "seller_id                                     \n",
       "7125093            406  408           0.995098\n",
       "58869788           256  259           0.988417\n",
       "76404673           209  244           0.856557\n",
       "80028439           209  211           0.990521\n",
       "79695643           168  183           0.918033"
      ]
     },
     "metadata": {},
     "output_type": "display_data"
    }
   ],
   "source": [
    "df_EDA[\"binary_used\"] = (df_EDA[\"condition\"] == \"used\").astype(int)\n",
    "gr_seller_id = df_EDA.groupby([\"seller_id\"]).agg({\"binary_used\":\"sum\",\"id\":\"count\"}).sort_values(by=\"binary_used\",ascending=False)\n",
    "\n",
    "gr_seller_id[\"score_seller_used\"] = gr_seller_id[\"binary_used\"]/gr_seller_id[\"id\"]\n",
    "display(gr_seller_id.head(5))\n",
    "dict_transform_seller_id = gr_seller_id[[\"score_seller_used\"]].to_dict()[\"score_seller_used\"]\n",
    "\n",
    "df_EDA[\"score_seller\"] = df_EDA[\"seller_id\"].map(dict_transform_seller_id).fillna(0)\n",
    "df_EDA.drop(columns=[\"seller_id\"], inplace=True)"
   ]
  },
  {
   "cell_type": "markdown",
   "metadata": {},
   "source": [
    "- **category_id:** No se tiene detalle de cada categoria, adicionalmente se cuenta con mas de 10k categorias, transformar tratar estos datos de forma categorica induciria a una gran cantidad de datos, por este motivo se decide crear dos scores, todos referenciados a la max categoria\n",
    "\n",
    "formulas\n",
    "$$\n",
    "\\text{score category id popularity} = \\frac{\\text{cantidad de elementos en la categoria}} {\\text{cantidad productos categoria mas popular}}\n",
    "$$\n",
    "\n",
    "$$\n",
    "\\text{score category id} = \\frac{\\text{cantidad de elementos en la categoria == used}} {\\text{cantidad productos categoria mas popular}}\n",
    "$$"
   ]
  },
  {
   "cell_type": "code",
   "execution_count": 262,
   "metadata": {},
   "outputs": [],
   "source": [
    "df_EDA[\"binary_used\"] = (df_EDA[\"condition\"] == \"used\").astype(int)\n",
    "\n",
    "gr_seller_id = df_EDA.groupby([\"category_id\"]).agg({\"binary_used\":\"sum\",\"id\":\"count\"})\n",
    "gr_seller_id[\"score_category_used\"] = gr_seller_id[\"binary_used\"]/gr_seller_id[\"id\"]\n",
    "\n",
    "dict_popularity = gr_seller_id[[\"score_category_used\"]].to_dict()[\"score_category_used\"]\n",
    "\n",
    "df_EDA[\"score_popularity_category\"] = df_EDA[\"category_id\"].map(dict_popularity).fillna(0)\n"
   ]
  },
  {
   "cell_type": "code",
   "execution_count": 263,
   "metadata": {},
   "outputs": [],
   "source": [
    "gr_category_id = df_EDA.groupby(\"category_id\")[[\"id\"]].count().sort_values(\"id\",ascending=False)\n",
    "gr_category_id = gr_category_id/gr_category_id.max()\n",
    "\n",
    "dict_category = gr_category_id.to_dict()[\"id\"]\n",
    "df_EDA[\"score_category_id\"] = df_EDA[\"category_id\"].map(dict_category).fillna(0)\n",
    "\n",
    "df_EDA.drop(columns=[\"category_id\",\"binary_used\"], inplace=True)\n"
   ]
  },
  {
   "cell_type": "markdown",
   "metadata": {},
   "source": [
    "##### Re-categorizacion\n",
    "Las siguientes transformaciones cambian los datos al transformar las categorias existentes en nuevas, para reducir dimensionalidad o añadir interpretabilidad a las variables modelo"
   ]
  },
  {
   "cell_type": "markdown",
   "metadata": {},
   "source": [
    "- **listing_type_id** [referencia meli1](https://developers.mercadolibre.com.ar/en_us/listing-types-item-upgrades-tutorial) [referencia meli2](https://developers.mercadolibre.com.ni/es_ar/atributos)\n",
    "Categorizacion del cliente, tiene sentido ordinal, por lo que se transformara el texto a valores entre 0 - 6"
   ]
  },
  {
   "cell_type": "code",
   "execution_count": 264,
   "metadata": {},
   "outputs": [],
   "source": [
    "dict_transform_listing_type = {'free':0,\n",
    "                            'bronze':1,\n",
    "                            'silver':2,\n",
    "                            'gold':3, \n",
    "                            'gold_premium':4,\n",
    "                            'gold_special':5, \n",
    "                            'gold_pro':6}\n",
    "\n",
    "df[\"listing_type_id\"] = df[\"listing_type_id\"].map(dict_transform_listing_type).fillna(0)"
   ]
  },
  {
   "cell_type": "markdown",
   "metadata": {},
   "source": [
    "- **non_mercado_pago_payment_methods:** Al analizar la columna se ve que un producto puede tener mas de un metodo de pago, se procesan los datos para enriquecer la base con la informacion contenida en el json, se caracterizan los medios de pago presentes y se establece la siguiente asignacion\n",
    "\n",
    "<center>\n",
    "\n",
    "| Método de Pago            | Código               |\n",
    "|---------------------------|----------------------|\n",
    "| Acordar con el comprador  | efectivo_o_acuerdo   |\n",
    "| Efectivo                  | efectivo_o_acuerdo   |\n",
    "| Transferencia bancaria    | transferencia_bancaria |\n",
    "| Giro postal               | giro_postal          |\n",
    "| Cheque certificado        | cheque               |\n",
    "| American Express          | tarjeta_credito      |\n",
    "| Diners                    | tarjeta_credito      |\n",
    "| MasterCard                | tarjeta_credito      |\n",
    "| Mastercard Maestro        | tarjeta_credito      |\n",
    "| Visa                      | tarjeta_credito      |\n",
    "| Visa Electron             | tarjeta_credito      |\n",
    "| Tarjeta de crédito        | tarjeta_credito      |\n",
    "| MercadoPago               | MercadoPago          |\n",
    "| Contra reembolso          | contra_reembolso     |\n",
    "\n",
    "</center>"
   ]
  },
  {
   "cell_type": "code",
   "execution_count": 265,
   "metadata": {},
   "outputs": [],
   "source": [
    "dict_metodos_de_pago = {\n",
    "    \"Acordar con el comprador\": \"efectivo_o_acuerdo\",\n",
    "    \"Efectivo\": \"efectivo_o_acuerdo\",\n",
    "    \"Transferencia bancaria\": \"transferencia_bancaria\",\n",
    "    \"Giro postal\": \"giro_postal\",\n",
    "    \"Cheque certificado\": \"cheque\",\n",
    "    \"American Express\": \"tarjeta_credito\",\n",
    "    \"Diners\": \"tarjeta_credito\",\n",
    "    \"MasterCard\": \"tarjeta_credito\",\n",
    "    \"Mastercard Maestro\": \"tarjeta_credito\",\n",
    "    \"Visa\": \"tarjeta_credito\",\n",
    "    \"Visa Electron\": \"tarjeta_credito\",\n",
    "    \"Tarjeta de crédito\": \"tarjeta_credito\",\n",
    "    \"MercadoPago\": \"MercadoPago\",\n",
    "    \"Contra reembolso\": \"contra_reembolso\"\n",
    "}\n",
    "\n",
    "df_payment_methods = df.loc[:,[\"id\",\"non_mercado_pago_payment_methods\"]].\\\n",
    "                        explode(\"non_mercado_pago_payment_methods\").\\\n",
    "                        reset_index()\n",
    "\n",
    "df_payment_methods_explode = pd.json_normalize(df_payment_methods[\"non_mercado_pago_payment_methods\"])\n",
    "df_payment_methods_explode.rename(columns={\"description\":\"description_shipping_free_methods\",\n",
    "                                                \"id\":\"id_shipping_free_methods\"},\n",
    "                                        inplace=True)\n",
    "\n",
    "df_payment_methods = pd.concat([df_payment_methods[[\"id\"]], \n",
    "                                    df_payment_methods_explode], \n",
    "                                    axis=1)[[\"id\",\"description_shipping_free_methods\",\"id_shipping_free_methods\"]]\n",
    "\n",
    "\n",
    "df_payment_methods[\"metodo_de_pago\"] = df_payment_methods[\"description_shipping_free_methods\"].map(dict_metodos_de_pago)\n",
    "df_payment_methods[\"ones\"] = 1\n",
    "gr_df_payment_methods = df_payment_methods.groupby([\"id\",\"metodo_de_pago\"])[[\"ones\"]].sum().reset_index()\n",
    "gr_df_payment_methods = gr_df_payment_methods.pivot(index=\"id\",columns=\"metodo_de_pago\", values=\"ones\").fillna(0)\n",
    "\n",
    "\n",
    "df_EDA = pd.merge(df_EDA, gr_df_payment_methods, on=\"id\", how=\"left\").fillna(0)\n",
    "df_EDA.loc[:,gr_df_payment_methods.columns.values] = df_EDA[gr_df_payment_methods.columns.values].fillna(0)"
   ]
  },
  {
   "cell_type": "markdown",
   "metadata": {},
   "source": [
    "## EDA\n",
    "Con las variables ya transformadas se procede a hacer el analisis descriptivo de todas las variables."
   ]
  },
  {
   "cell_type": "markdown",
   "metadata": {},
   "source": [
    "### Variable Objetivo\n",
    "condition, puede ser transformada para hacerla un problema de clasificacion binario, se puede decir que el set es balanceado"
   ]
  },
  {
   "cell_type": "code",
   "execution_count": 268,
   "metadata": {},
   "outputs": [
    {
     "data": {
      "text/html": [
       "<div>\n",
       "<style scoped>\n",
       "    .dataframe tbody tr th:only-of-type {\n",
       "        vertical-align: middle;\n",
       "    }\n",
       "\n",
       "    .dataframe tbody tr th {\n",
       "        vertical-align: top;\n",
       "    }\n",
       "\n",
       "    .dataframe thead th {\n",
       "        text-align: right;\n",
       "    }\n",
       "</style>\n",
       "<table border=\"1\" class=\"dataframe\">\n",
       "  <thead>\n",
       "    <tr style=\"text-align: right;\">\n",
       "      <th></th>\n",
       "      <th>condition</th>\n",
       "      <th>cantidad_registros</th>\n",
       "      <th>porcentaje</th>\n",
       "    </tr>\n",
       "  </thead>\n",
       "  <tbody>\n",
       "    <tr>\n",
       "      <th>0</th>\n",
       "      <td>new</td>\n",
       "      <td>48352</td>\n",
       "      <td>53.72</td>\n",
       "    </tr>\n",
       "    <tr>\n",
       "      <th>1</th>\n",
       "      <td>used</td>\n",
       "      <td>41648</td>\n",
       "      <td>46.28</td>\n",
       "    </tr>\n",
       "  </tbody>\n",
       "</table>\n",
       "</div>"
      ],
      "text/plain": [
       "  condition  cantidad_registros  porcentaje\n",
       "0       new               48352       53.72\n",
       "1      used               41648       46.28"
      ]
     },
     "metadata": {},
     "output_type": "display_data"
    },
    {
     "data": {
      "image/png": "[encoded data removed]",
      "text/plain": [
       "<Figure size 500x300 with 1 Axes>"
      ]
     },
     "metadata": {},
     "output_type": "display_data"
    }
   ],
   "source": [
    "descr_categorico(df_EDA,\"condition\",is_target=True)"
   ]
  },
  {
   "cell_type": "code",
   "execution_count": null,
   "metadata": {},
   "outputs": [],
   "source": []
  },
  {
   "cell_type": "code",
   "execution_count": null,
   "metadata": {},
   "outputs": [],
   "source": []
  }
 ],
 "metadata": {
  "kernelspec": {
   "display_name": "Python 3",
   "language": "python",
   "name": "python3"
  },
  "language_info": {
   "codemirror_mode": {
    "name": "ipython",
    "version": 3
   },
   "file_extension": ".py",
   "mimetype": "text/x-python",
   "name": "python",
   "nbconvert_exporter": "python",
   "pygments_lexer": "ipython3",
   "version": "3.9.19"
  }
 },
 "nbformat": 4,
 "nbformat_minor": 2
}
